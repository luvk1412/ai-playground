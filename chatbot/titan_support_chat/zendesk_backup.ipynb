{
 "cells": [
  {
   "cell_type": "code",
   "execution_count": 2,
   "metadata": {},
   "outputs": [],
   "source": [
    "import requests\n",
    "from dotenv import load_dotenv\n",
    "import os\n",
    "\n",
    "import os\n",
    "import datetime"
   ]
  },
  {
   "cell_type": "code",
   "execution_count": 9,
   "metadata": {},
   "outputs": [],
   "source": [
    "load_dotenv()\n",
    "\n",
    "credentials = os.getenv('zendesk_email'), os.getenv('zendesk_pass')\n",
    "zendesk = 'https://titanmail.zendesk.com'\n",
    "language = 'en-US'\n"
   ]
  },
  {
   "cell_type": "code",
   "execution_count": 4,
   "metadata": {},
   "outputs": [],
   "source": [
    "date = datetime.date.today()\n",
    "backup_path = os.path.join(str(date), language)\n",
    "if not os.path.exists(backup_path):\n",
    "    os.makedirs(backup_path)"
   ]
  },
  {
   "cell_type": "code",
   "execution_count": 19,
   "metadata": {},
   "outputs": [],
   "source": [
    "endpoint = zendesk + '/api/v2/help_center/{locale}/articles.json'.format(locale=language.lower())\n",
    "article_id_list = []\n",
    "while endpoint:\n",
    "    response = requests.get(endpoint, auth=credentials)\n",
    "    if response.status_code != 200:\n",
    "        print('Failed to retrieve articles with error {}'.format(response.status_code))\n",
    "        \n",
    "    data = response.json()\n",
    "\n",
    "    for article in data['articles']:\n",
    "        if article['body'] is None:\n",
    "            continue\n",
    "        title = '<h1>' + article['title'] + '</h1>'\n",
    "        filename = '{id}.html'.format(id=article['id'])\n",
    "        with open(os.path.join(backup_path, filename), mode='w', encoding='utf-8') as f:\n",
    "            f.write(title + '\\n' + article['body'])\n",
    "        print('{id} copied!'.format(id=article['id']))\n",
    "\n",
    "    endpoint = data['next_page']"
   ]
  },
  {
   "cell_type": "code",
   "execution_count": 20,
   "metadata": {},
   "outputs": [
    {
     "data": {
      "text/plain": [
       "291"
      ]
     },
     "execution_count": 20,
     "metadata": {},
     "output_type": "execute_result"
    }
   ],
   "source": []
  },
  {
   "cell_type": "code",
   "execution_count": 18,
   "metadata": {},
   "outputs": [
    {
     "name": "stdout",
     "output_type": "stream",
     "text": [
      "Get Started\n",
      "Admin Center\n",
      "Using Flock\n",
      "Profile & Preferences\n",
      "Apps & Integrations\n",
      "Pricing & Upgrades\n",
      "FAQs\n",
      "What's New\n",
      "Legal\n",
      "Internal Documentation\n"
     ]
    }
   ],
   "source": []
  }
 ],
 "metadata": {
  "kernelspec": {
   "display_name": "ai-playground",
   "language": "python",
   "name": "python3"
  },
  "language_info": {
   "codemirror_mode": {
    "name": "ipython",
    "version": 3
   },
   "file_extension": ".py",
   "mimetype": "text/x-python",
   "name": "python",
   "nbconvert_exporter": "python",
   "pygments_lexer": "ipython3",
   "version": "3.10.11"
  },
  "orig_nbformat": 4
 },
 "nbformat": 4,
 "nbformat_minor": 2
}
