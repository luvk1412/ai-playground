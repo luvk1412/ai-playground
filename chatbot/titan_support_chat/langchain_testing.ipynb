{
 "cells": [
  {
   "cell_type": "code",
   "execution_count": 48,
   "metadata": {},
   "outputs": [],
   "source": [
    "from langchain.document_loaders import DirectoryLoader, UnstructuredHTMLLoader\n",
    "from langchain.text_splitter import RecursiveCharacterTextSplitter\n",
    "import os\n",
    "from dotenv import load_dotenv"
   ]
  },
  {
   "cell_type": "code",
   "execution_count": 49,
   "metadata": {},
   "outputs": [],
   "source": [
    "load_dotenv()\n",
    "os.environ['OPENAI_API_KEY'] = os.getenv(\"OPENAI_API_KEY\")"
   ]
  },
  {
   "cell_type": "code",
   "execution_count": 50,
   "metadata": {},
   "outputs": [],
   "source": [
    "loader = DirectoryLoader(\"2023-07-26/en-US/\")"
   ]
  },
  {
   "cell_type": "code",
   "execution_count": 51,
   "metadata": {},
   "outputs": [],
   "source": [
    "documents = loader.load()"
   ]
  },
  {
   "cell_type": "code",
   "execution_count": 71,
   "metadata": {},
   "outputs": [
    {
     "data": {
      "text/plain": [
       "327"
      ]
     },
     "execution_count": 71,
     "metadata": {},
     "output_type": "execute_result"
    }
   ],
   "source": [
    "len(documents)"
   ]
  },
  {
   "cell_type": "code",
   "execution_count": 53,
   "metadata": {},
   "outputs": [],
   "source": [
    "text_splitter = RecursiveCharacterTextSplitter(chunk_size=512, chunk_overlap=10)\n",
    "texts = text_splitter.split_documents(documents)"
   ]
  },
  {
   "cell_type": "code",
   "execution_count": 56,
   "metadata": {},
   "outputs": [
    {
     "data": {
      "text/plain": [
       "2043"
      ]
     },
     "execution_count": 56,
     "metadata": {},
     "output_type": "execute_result"
    }
   ],
   "source": [
    "len(texts)"
   ]
  },
  {
   "cell_type": "code",
   "execution_count": 57,
   "metadata": {},
   "outputs": [],
   "source": [
    "from langchain.vectorstores import Chroma\n",
    "from langchain.embeddings import OpenAIEmbeddings\n",
    "from langchain.embeddings import HuggingFaceEmbeddings, SentenceTransformerEmbeddings\n",
    "\n",
    "persist_directory = \"./storage\"\n",
    "# embeddings = OpenAIEmbeddings()\n",
    "embeddings = HuggingFaceEmbeddings(model_name=\"all-MiniLM-L6-v2\")\n",
    "\n",
    "vectordb = Chroma.from_documents(documents=texts, \n",
    "                                 embedding=embeddings,\n",
    "                                 persist_directory=persist_directory)\n",
    "vectordb.persist()"
   ]
  },
  {
   "cell_type": "code",
   "execution_count": 58,
   "metadata": {},
   "outputs": [],
   "source": [
    "from langchain.chat_models import ChatOpenAI\n",
    "from langchain.chains import RetrievalQA\n",
    "\n",
    "retriever = vectordb.as_retriever(search_kwargs={\"k\": 5})\n",
    "llm = ChatOpenAI(model_name='gpt-3.5-turbo')\n",
    "\n",
    "qa = RetrievalQA.from_chain_type(llm=llm, chain_type=\"stuff\", retriever=retriever)"
   ]
  },
  {
   "cell_type": "code",
   "execution_count": 69,
   "metadata": {},
   "outputs": [
    {
     "name": "stdout",
     "output_type": "stream",
     "text": [
      "To set up Two-Factor Authentication (2FA) in the Titan Mail app, please follow these steps:\n",
      "\n",
      "1. Ensure that you have the latest version of the Titan Mail app installed on your Android or iOS device.\n",
      "\n",
      "2. Open the Titan Mail app and log in to your account using your username and password.\n",
      "\n",
      "3. Once you are logged in, navigate to the settings or account preferences section of the app.\n",
      "\n",
      "4. Look for the option to enable Two-Factor Authentication or 2FA. This option may be under the security or privacy settings.\n",
      "\n",
      "5. Click on the enable or setup button for Two-Factor Authentication.\n",
      "\n",
      "6. Follow the on-screen instructions to complete the setup process. This may involve verifying your phone number, linking a trusted device, or setting up a backup method.\n",
      "\n",
      "7. Once you have successfully set up Two-Factor Authentication, the app will prompt you to verify your identity using a second factor, such as a code sent to your phone or a biometric scan, each time you log in.\n",
      "\n",
      "Remember to keep your backup codes in a safe place in case you lose access to your primary authentication method.\n",
      "\n",
      "If you encounter any issues or need further assistance, please reach out to support@titan.email for help.\n"
     ]
    }
   ],
   "source": [
    "user_input = 'How to setup 2fa in titan mail app'\n",
    "\n",
    "query = f\"###Prompt {user_input}\"\n",
    "\n",
    "llm_response = qa(query)\n",
    "print(llm_response[\"result\"])"
   ]
  },
  {
   "cell_type": "code",
   "execution_count": 73,
   "metadata": {},
   "outputs": [],
   "source": [
    "new_db = Chroma(persist_directory=persist_directory, embedding_function=embeddings)\n"
   ]
  }
 ],
 "metadata": {
  "kernelspec": {
   "display_name": "ai-playground",
   "language": "python",
   "name": "python3"
  },
  "language_info": {
   "codemirror_mode": {
    "name": "ipython",
    "version": 3
   },
   "file_extension": ".py",
   "mimetype": "text/x-python",
   "name": "python",
   "nbconvert_exporter": "python",
   "pygments_lexer": "ipython3",
   "version": "3.10.11"
  },
  "orig_nbformat": 4
 },
 "nbformat": 4,
 "nbformat_minor": 2
}
