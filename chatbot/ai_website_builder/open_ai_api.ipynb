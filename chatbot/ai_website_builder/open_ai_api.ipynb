{
 "cells": [
  {
   "cell_type": "code",
   "execution_count": 347,
   "metadata": {},
   "outputs": [],
   "source": [
    "from dotenv import load_dotenv\n",
    "import os\n",
    "from openai import OpenAI\n",
    "import json"
   ]
  },
  {
   "cell_type": "code",
   "execution_count": 348,
   "metadata": {},
   "outputs": [],
   "source": [
    "load_dotenv()\n",
    "key = os.getenv(\"OPENAI_API_KEY\")\n",
    "client = OpenAI()\n",
    "\n",
    "gpt3_model = \"gpt-3.5-turbo-0125\"\n",
    "gpt4_model = \"gpt-4-0125-preview\""
   ]
  },
  {
   "cell_type": "code",
   "execution_count": 349,
   "metadata": {},
   "outputs": [],
   "source": [
    "def call_openai(conversation_history, output_json=False, functions=None, model=gpt3_model, temperature=1):\n",
    "    response_format = {\"type\": \"text\"}\n",
    "    tools = []\n",
    "    if output_json:\n",
    "        response_format[\"type\"] = \"json_object\"\n",
    "    if functions:\n",
    "        for function in functions:\n",
    "            tools.append({\n",
    "                \"type\": \"function\",\n",
    "                \"function\": function\n",
    "            })\n",
    "    if tools:\n",
    "        return client.chat.completions.create(model=model, response_format=response_format, messages=conversation_history, tools=tools, temperature=temperature)\n",
    "    return client.chat.completions.create(model=model, response_format=response_format, messages=conversation_history, temperature=temperature)"
   ]
  },
  {
   "cell_type": "markdown",
   "metadata": {},
   "source": [
    "# Website Generation"
   ]
  },
  {
   "cell_type": "code",
   "execution_count": 350,
   "metadata": {},
   "outputs": [],
   "source": [
    "website_json_frame = {\n",
    "    \"header\": {\n",
    "        \"title\": \"This should be title of the web site. Kind of logo. Should be short\",\n",
    "        \"image_search_prompt\": \"short two word description of brand logo\"\n",
    "    },\n",
    "    \"intro\": {\n",
    "        \"heading\": \"this should be heading for page\",\n",
    "        \"description\": \"this should be 2-3 line description about the business\",\n",
    "        \"button_label\": \"Label text of button\"\n",
    "    },\n",
    "    \"custom_links\": {\n",
    "        \"links\": [\n",
    "            {\n",
    "                \"button_label\": \"Label for the button\",\n",
    "                \"button_icon\": \"One of the 12 icons: (need to type all icons here)\"\n",
    "            }\n",
    "        ]\n",
    "    },\n",
    "    \"services_section\": {\n",
    "        \"heading\": \"\",\n",
    "        \"button_label\": \"Each service will have a button on ui and this label will be used for all services, For ex: Book this Service/Book\",\n",
    "        \"currency\": \"currency unit to use one of USD, EUR, GBP\",\n",
    "        \"services\": [\n",
    "            {\n",
    "                \"name\": \"name of the service\",\n",
    "                \"description\": \"service desc\",\n",
    "                \"price\": \"integer value of price in unit defined above\",\n",
    "                \"image_search_prompt\": \"short two word description for above service\"\n",
    "            }\n",
    "        ]\n",
    "    },\n",
    "    \"text\": {\n",
    "        \"heading\": \"\",\n",
    "        \"description\": \"\",\n",
    "        \"button_label\": \"\"\n",
    "    },\n",
    "    \"gallery_section\": {\n",
    "        \"heading\": \"\",\n",
    "        \"button_label\": \"\",\n",
    "        \"images\": [\n",
    "            {\n",
    "                \"image_description\": \"\",\n",
    "                \"image_search_prompt\": \"short two word descrioption of above image\"\n",
    "\n",
    "            }\n",
    "        ]\n",
    "    },\n",
    "    \"product_section\": {\n",
    "        \"heading\": \"\",\n",
    "        \"main_button_label\": \"Label for main button show to right of Heading, For example: Shope all\",\n",
    "        \"button_label\": \"Each product will have a button on ui and this label will be used for all products, For ex: Buy/Buy Now\",\n",
    "        \"currency\": \"currency unit to use one of USD, EUR, GBP\",\n",
    "        \"products\": [\n",
    "            {\n",
    "                \"name\": \"\",\n",
    "                \"price\": \"integer value of price in unit defined above\",\n",
    "                \"image_search_prompt\": \"short two word description for above product\"\n",
    "            }\n",
    "        ]\n",
    "    },\n",
    "    \"testimonial_section\": {\n",
    "        \"heading\": \"Headin of the testimonial section\",\n",
    "        \"testimonials\": [\n",
    "            {\n",
    "                \"quote\": \"Reviw given by user. Should be 3-5 lines.\",\n",
    "                \"written_by\": \"name of a person\",\n",
    "                \"designation\": \"\",\n",
    "                \"gender\": \"male or female\"\n",
    "            }\n",
    "        ]\n",
    "    },\n",
    "    \"contact_form\": {\n",
    "        \"heading\": \"heading of the contact form\"\n",
    "    },\n",
    "    \"social_links\": {\n",
    "        \"links\": [\n",
    "            {\n",
    "                \"type\": \"facebook/linkedin/twitter/tiktok\",\n",
    "                \"link\": \"\"\n",
    "            }\n",
    "        ]\n",
    "    }\n",
    "}"
   ]
  },
  {
   "cell_type": "code",
   "execution_count": 351,
   "metadata": {},
   "outputs": [],
   "source": [
    "bussiness_description = \"\"\"\n",
    "Company Name: Code With Luv\n",
    "Description: I sell competitive programming courses\n",
    "\"\"\"\n",
    "\n",
    "website_generate_messages = [\n",
    "    {\n",
    "        \"role\": \"system\",\n",
    "        \"content\": \"You are a helpful assistant which is being used a website and its content, you will be provided with a json format, each field in the\\\n",
    "              json is to be filled properly in accordance with bussiness details given by the user and the description of each and every field described in format\"\n",
    "    },\n",
    "    {\n",
    "        \"role\": \"user\",\n",
    "        \"content\": f\"Here is the json format for the website{website_json_frame}. You are free to drop any of the section if you dont think it is usefull in this \\\n",
    "            website and generate content for the sections you will should be there. A website should generally have one of products or services section depending on\\\n",
    "             wether the business sells services or products Here is the businnes description given by user{bussiness_description}. \\\n",
    "            Generate the json for the website according to given format\"\n",
    "    }\n",
    "]\n",
    "response = call_openai(\n",
    "    conversation_history=website_generate_messages, output_json=True)"
   ]
  },
  {
   "cell_type": "code",
   "execution_count": 352,
   "metadata": {},
   "outputs": [
    {
     "data": {
      "text/plain": [
       "{'header': {'title': 'Code With Luv',\n",
       "  'image_search_prompt': 'coding education'},\n",
       " 'intro': {'heading': 'Master Competitive Programming with Code With Luv!',\n",
       "  'description': 'Enhance your coding skills and excel in competitive programming with our expertly crafted courses.',\n",
       "  'button_label': 'Explore Courses'},\n",
       " 'services_section': {'heading': 'Our Courses',\n",
       "  'button_label': 'Book this Course',\n",
       "  'currency': 'USD',\n",
       "  'services': [{'name': 'Basic Programming Fundamentals',\n",
       "    'description': 'Learn the basics of programming languages and problem-solving techniques.',\n",
       "    'price': 99,\n",
       "    'image_search_prompt': 'coding basics'},\n",
       "   {'name': 'Advanced Algorithm Design',\n",
       "    'description': 'Master advanced algorithms and data structures to excel in competitive programming.',\n",
       "    'price': 149,\n",
       "    'image_search_prompt': 'algorithm design'}]},\n",
       " 'testimonial_section': {'heading': 'Student Reviews',\n",
       "  'testimonials': [{'quote': 'Code With Luv helped me improve my problem-solving skills significantly. Highly recommended!',\n",
       "    'written_by': 'John Doe',\n",
       "    'designation': 'Student',\n",
       "    'gender': 'male'},\n",
       "   {'quote': 'I was able to tackle complex coding challenges confidently after taking courses at Code With Luv.',\n",
       "    'written_by': 'Jane Smith',\n",
       "    'designation': 'Programming Enthusiast',\n",
       "    'gender': 'female'}]},\n",
       " 'contact_form': {'heading': 'Get in Touch'}}"
      ]
     },
     "execution_count": 352,
     "metadata": {},
     "output_type": "execute_result"
    }
   ],
   "source": [
    "website_json = json.loads(response.choices[0].message.content)\n",
    "website_json"
   ]
  },
  {
   "cell_type": "markdown",
   "metadata": {},
   "source": [
    "# Chat section"
   ]
  },
  {
   "cell_type": "code",
   "execution_count": 353,
   "metadata": {},
   "outputs": [],
   "source": [
    "website_chat_messages = [\n",
    "    {\n",
    "        \"role\": \"system\",\n",
    "        \"content\": f\"You are a helpful assistant which is being used in a site builder app, you help user in building a beautiful and informational site for their business, \\\n",
    "give them suggestions to improve certain section's content if asked(one section at a time). Based on this json format: {website_json_frame} , \\\n",
    "this is the current website: {website_json}, user can ask you to remove certain sections, add certain sections or modify certains sections in json. \\\n",
    "The changes you can make or only limited to what can be added/removed/modified in json, If user askes to add any new ui component or something like that, \\\n",
    "you should refuse to user in simple language and not mention things like json etc as real user is unaware of that. Your replies should be concise. You should also not call any function in such cases as well\"\n",
    "    }\n",
    "]\n",
    "old_website_json = website_json\n",
    "new_website_json = website_json"
   ]
  },
  {
   "cell_type": "code",
   "execution_count": 354,
   "metadata": {},
   "outputs": [
    {
     "data": {
      "text/plain": [
       "[{'role': 'system',\n",
       "  'content': \"You are a helpful assistant which is being used in a site builder app, you help user in building a beautiful and informational site for their business, give them suggestions to improve certain section's content if asked(one section at a time). Based on this json format: {'header': {'title': 'This should be title of the web site. Kind of logo. Should be short', 'image_search_prompt': 'short two word description of brand logo'}, 'intro': {'heading': 'this should be heading for page', 'description': 'this should be 2-3 line description about the business', 'button_label': 'Label text of button'}, 'custom_links': {'links': [{'button_label': 'Label for the button', 'button_icon': 'One of the 12 icons: (need to type all icons here)'}]}, 'services_section': {'heading': '', 'button_label': 'Each service will have a button on ui and this label will be used for all services, For ex: Book this Service/Book', 'currency': 'currency unit to use one of USD, EUR, GBP', 'services': [{'name': 'name of the service', 'description': 'service desc', 'price': 'integer value of price in unit defined above', 'image_search_prompt': 'short two word description for above service'}]}, 'text': {'heading': '', 'description': '', 'button_label': ''}, 'gallery_section': {'heading': '', 'button_label': '', 'images': [{'image_description': '', 'image_search_prompt': 'short two word descrioption of above image'}]}, 'product_section': {'heading': '', 'main_button_label': 'Label for main button show to right of Heading, For example: Shope all', 'button_label': 'Each product will have a button on ui and this label will be used for all products, For ex: Buy/Buy Now', 'currency': 'currency unit to use one of USD, EUR, GBP', 'products': [{'name': '', 'price': 'integer value of price in unit defined above', 'image_search_prompt': 'short two word description for above product'}]}, 'testimonial_section': {'heading': 'Headin of the testimonial section', 'testimonials': [{'quote': 'Reviw given by user. Should be 3-5 lines.', 'written_by': 'name of a person', 'designation': '', 'gender': 'male or female'}]}, 'contact_form': {'heading': 'heading of the contact form'}, 'social_links': {'links': [{'type': 'facebook/linkedin/twitter/tiktok', 'link': ''}]}} , this is the current website: {'header': {'title': 'Code With Luv', 'image_search_prompt': 'coding education'}, 'intro': {'heading': 'Master Competitive Programming with Code With Luv!', 'description': 'Enhance your coding skills and excel in competitive programming with our expertly crafted courses.', 'button_label': 'Explore Courses'}, 'services_section': {'heading': 'Our Courses', 'button_label': 'Book this Course', 'currency': 'USD', 'services': [{'name': 'Basic Programming Fundamentals', 'description': 'Learn the basics of programming languages and problem-solving techniques.', 'price': 99, 'image_search_prompt': 'coding basics'}, {'name': 'Advanced Algorithm Design', 'description': 'Master advanced algorithms and data structures to excel in competitive programming.', 'price': 149, 'image_search_prompt': 'algorithm design'}]}, 'testimonial_section': {'heading': 'Student Reviews', 'testimonials': [{'quote': 'Code With Luv helped me improve my problem-solving skills significantly. Highly recommended!', 'written_by': 'John Doe', 'designation': 'Student', 'gender': 'male'}, {'quote': 'I was able to tackle complex coding challenges confidently after taking courses at Code With Luv.', 'written_by': 'Jane Smith', 'designation': 'Programming Enthusiast', 'gender': 'female'}]}, 'contact_form': {'heading': 'Get in Touch'}}, user can ask you to remove certain sections, add certain sections or modify certains sections in json. The changes you can make or only limited to what can be added/removed/modified in json, If user askes to add any new ui component or something like that, you should refuse to user in simple language and not mention things like json etc as real user is unaware of that. Your replies should be concise. You should also not call any function in such cases as well\"}]"
      ]
     },
     "execution_count": 354,
     "metadata": {},
     "output_type": "execute_result"
    }
   ],
   "source": [
    "website_chat_messages"
   ]
  },
  {
   "cell_type": "code",
   "execution_count": 355,
   "metadata": {},
   "outputs": [],
   "source": [
    "functions = [\n",
    "    {\n",
    "        \"name\": \"change_website\",\n",
    "        \"description\": \"This function should be called when user explicitly asks to change the website content. This should not be called when asked for suggestions or for ui changes as this can only change content\",\n",
    "        \"parameters\": {\n",
    "            \"type\": \"object\",\n",
    "            \"properties\": {\n",
    "                \"changes_to_made\": {\n",
    "                    \"type\": \"string\",\n",
    "                    \"description\": \"A prompt which describes what changes should be made to the website\",\n",
    "                }\n",
    "            },\n",
    "            \"required\": [\"changes_to_made\"],\n",
    "        },\n",
    "    }\n",
    "]"
   ]
  },
  {
   "cell_type": "code",
   "execution_count": 380,
   "metadata": {},
   "outputs": [],
   "source": [
    "prompt = \"Add a nav bar to header section\"\n",
    "website_chat_messages.append({\n",
    "    \"role\": \"user\",\n",
    "    \"content\": prompt\n",
    "})"
   ]
  },
  {
   "cell_type": "code",
   "execution_count": 381,
   "metadata": {},
   "outputs": [
    {
     "data": {
      "text/plain": [
       "[{'role': 'system',\n",
       "  'content': \"You are a helpful assistant which is being used in a site builder app, you help user in building a beautiful and informational site for their business, give them suggestions to improve certain section's content if asked(one section at a time). Based on this json format: {'header': {'title': 'This should be title of the web site. Kind of logo. Should be short', 'image_search_prompt': 'short two word description of brand logo'}, 'intro': {'heading': 'this should be heading for page', 'description': 'this should be 2-3 line description about the business', 'button_label': 'Label text of button'}, 'custom_links': {'links': [{'button_label': 'Label for the button', 'button_icon': 'One of the 12 icons: (need to type all icons here)'}]}, 'services_section': {'heading': '', 'button_label': 'Each service will have a button on ui and this label will be used for all services, For ex: Book this Service/Book', 'currency': 'currency unit to use one of USD, EUR, GBP', 'services': [{'name': 'name of the service', 'description': 'service desc', 'price': 'integer value of price in unit defined above', 'image_search_prompt': 'short two word description for above service'}]}, 'text': {'heading': '', 'description': '', 'button_label': ''}, 'gallery_section': {'heading': '', 'button_label': '', 'images': [{'image_description': '', 'image_search_prompt': 'short two word descrioption of above image'}]}, 'product_section': {'heading': '', 'main_button_label': 'Label for main button show to right of Heading, For example: Shope all', 'button_label': 'Each product will have a button on ui and this label will be used for all products, For ex: Buy/Buy Now', 'currency': 'currency unit to use one of USD, EUR, GBP', 'products': [{'name': '', 'price': 'integer value of price in unit defined above', 'image_search_prompt': 'short two word description for above product'}]}, 'testimonial_section': {'heading': 'Headin of the testimonial section', 'testimonials': [{'quote': 'Reviw given by user. Should be 3-5 lines.', 'written_by': 'name of a person', 'designation': '', 'gender': 'male or female'}]}, 'contact_form': {'heading': 'heading of the contact form'}, 'social_links': {'links': [{'type': 'facebook/linkedin/twitter/tiktok', 'link': ''}]}} , this is the current website: {'header': {'title': 'Code With Luv', 'image_search_prompt': 'coding education'}, 'intro': {'heading': 'Master Competitive Programming with Code With Luv!', 'description': 'Enhance your coding skills and excel in competitive programming with our expertly crafted courses.', 'button_label': 'Explore Courses'}, 'services_section': {'heading': 'Our Courses', 'button_label': 'Book this Course', 'currency': 'USD', 'services': [{'name': 'Basic Programming Fundamentals', 'description': 'Learn the basics of programming languages and problem-solving techniques.', 'price': 99, 'image_search_prompt': 'coding basics'}, {'name': 'Advanced Algorithm Design', 'description': 'Master advanced algorithms and data structures to excel in competitive programming.', 'price': 149, 'image_search_prompt': 'algorithm design'}]}, 'testimonial_section': {'heading': 'Student Reviews', 'testimonials': [{'quote': 'Code With Luv helped me improve my problem-solving skills significantly. Highly recommended!', 'written_by': 'John Doe', 'designation': 'Student', 'gender': 'male'}, {'quote': 'I was able to tackle complex coding challenges confidently after taking courses at Code With Luv.', 'written_by': 'Jane Smith', 'designation': 'Programming Enthusiast', 'gender': 'female'}]}, 'contact_form': {'heading': 'Get in Touch'}}, user can ask you to remove certain sections, add certain sections or modify certains sections in json. The changes you can make or only limited to what can be added/removed/modified in json, If user askes to add any new ui component or something like that, you should refuse to user in simple language and not mention things like json etc as real user is unaware of that. Your replies should be concise. You should also not call any function in such cases as well\"},\n",
       " {'role': 'user', 'content': 'Increase the testimonial count to 3'},\n",
       " ChatCompletionMessage(content=None, role='assistant', function_call=None, tool_calls=[ChatCompletionMessageToolCall(id='call_ZdKuOyFki7RvCm9ZIapHxmfL', function=Function(arguments='{\"changes_to_made\":\"Add one more testimonial to the testimonial section\"}', name='change_website'), type='function')]),\n",
       " {'tool_call_id': 'call_ZdKuOyFki7RvCm9ZIapHxmfL',\n",
       "  'role': 'tool',\n",
       "  'name': 'change_website',\n",
       "  'content': \"The website has been modified to {'header': {'title': 'Code With Luv', 'image_search_prompt': 'coding education'}, 'intro': {'heading': 'Master Competitive Programming with Code With Luv!', 'description': 'Enhance your coding skills and excel in competitive programming with our expertly crafted courses.', 'button_label': 'Explore Courses'}, 'services_section': {'heading': 'Our Courses', 'button_label': 'Book this Course', 'currency': 'USD', 'services': [{'name': 'Basic Programming Fundamentals', 'description': 'Learn the basics of programming languages and problem-solving techniques.', 'price': 99, 'image_search_prompt': 'coding basics'}, {'name': 'Advanced Algorithm Design', 'description': 'Master advanced algorithms and data structures to excel in competitive programming.', 'price': 149, 'image_search_prompt': 'algorithm design'}]}, 'testimonial_section': {'heading': 'Student Reviews', 'testimonials': [{'quote': 'Code With Luv helped me improve my problem-solving skills significantly. Highly recommended!', 'written_by': 'John Doe', 'designation': 'Student', 'gender': 'male'}, {'quote': 'I was able to tackle complex coding challenges confidently after taking courses at Code With Luv.', 'written_by': 'Jane Smith', 'designation': 'Programming Enthusiast', 'gender': 'female'}, {'quote': 'Learning with Code With Luv was a game-changer for me. I am now more confident in my coding abilities.', 'written_by': 'Sarah Johnson', 'designation': 'Software Engineer', 'gender': 'female'}]}, 'contact_form': {'heading': 'Get in Touch'}}\"},\n",
       " {'role': 'assistant',\n",
       "  'content': 'The testimonial count has been increased to 3 on the website.'},\n",
       " {'role': 'user',\n",
       "  'content': 'What more do you suggest me to change in website'},\n",
       " {'role': 'assistant',\n",
       "  'content': 'I would suggest adding a gallery section with images related to your courses or testimonials to make the website more visually engaging and compelling for visitors.'},\n",
       " {'role': 'user', 'content': 'Can you do it in that case'},\n",
       " ChatCompletionMessage(content=None, role='assistant', function_call=None, tool_calls=[ChatCompletionMessageToolCall(id='call_fSmfGMuon7hWT4nqF5jvbOjZ', function=Function(arguments='{\"changes_to_made\":\"Add a gallery section with relevant images\"}', name='change_website'), type='function')]),\n",
       " {'tool_call_id': 'call_fSmfGMuon7hWT4nqF5jvbOjZ',\n",
       "  'role': 'tool',\n",
       "  'name': 'change_website',\n",
       "  'content': \"The website has been modified to {'header': {'title': 'Code With Luv', 'image_search_prompt': 'coding education'}, 'intro': {'heading': 'Master Competitive Programming with Code With Luv!', 'description': 'Enhance your coding skills and excel in competitive programming with our expertly crafted courses.', 'button_label': 'Explore Courses'}, 'services_section': {'heading': 'Our Courses', 'button_label': 'Book this Course', 'currency': 'USD', 'services': [{'name': 'Basic Programming Fundamentals', 'description': 'Learn the basics of programming languages and problem-solving techniques.', 'price': 99, 'image_search_prompt': 'coding basics'}, {'name': 'Advanced Algorithm Design', 'description': 'Master advanced algorithms and data structures to excel in competitive programming.', 'price': 149, 'image_search_prompt': 'algorithm design'}]}, 'testimonial_section': {'heading': 'Student Reviews', 'testimonials': [{'quote': 'Code With Luv helped me improve my problem-solving skills significantly. Highly recommended!', 'written_by': 'John Doe', 'designation': 'Student', 'gender': 'male'}, {'quote': 'I was able to tackle complex coding challenges confidently after taking courses at Code With Luv.', 'written_by': 'Jane Smith', 'designation': 'Programming Enthusiast', 'gender': 'female'}, {'quote': 'Learning with Code With Luv was a game-changer for me. I am now more confident in my coding abilities.', 'written_by': 'Sarah Johnson', 'designation': 'Software Engineer', 'gender': 'female'}]}, 'contact_form': {'heading': 'Get in Touch'}, 'gallery_section': {'heading': 'Gallery', 'button_label': 'View Gallery', 'images': [{'image_description': '', 'image_search_prompt': 'relevant images'}]}}\"},\n",
       " {'role': 'assistant',\n",
       "  'content': 'The gallery section with relevant images has been added to the website for a visually engaging experience.'},\n",
       " {'role': 'user', 'content': 'Add a nav bar to header section'}]"
      ]
     },
     "execution_count": 381,
     "metadata": {},
     "output_type": "execute_result"
    }
   ],
   "source": [
    "website_chat_messages"
   ]
  },
  {
   "cell_type": "code",
   "execution_count": 384,
   "metadata": {},
   "outputs": [],
   "source": [
    "response = call_openai(conversation_history=website_chat_messages, functions=functions, model=gpt4_model)"
   ]
  },
  {
   "cell_type": "code",
   "execution_count": 385,
   "metadata": {},
   "outputs": [
    {
     "data": {
      "text/plain": [
       "ChatCompletion(id='chatcmpl-99CWHTAVmTXlIg8LZHVjlUCX5PnKC', choices=[Choice(finish_reason='stop', index=0, logprobs=None, message=ChatCompletionMessage(content=\"I can help with content modifications within the structures we've discussed, but adding new UI components like a navigation bar isn't something I can do directly. For enhancements like adding a navigation bar, it's typically handled within the site's design or theme settings through your website builder or by editing the site's HTML/CSS directly. I recommend looking into those options to add a navigation bar to your website.\", role='assistant', function_call=None, tool_calls=None))], created=1711980105, model='gpt-4-0125-preview', object='chat.completion', system_fingerprint='fp_a7daf7c51e', usage=CompletionUsage(completion_tokens=81, prompt_tokens=1927, total_tokens=2008))"
      ]
     },
     "execution_count": 385,
     "metadata": {},
     "output_type": "execute_result"
    }
   ],
   "source": [
    "response"
   ]
  },
  {
   "cell_type": "code",
   "execution_count": 376,
   "metadata": {},
   "outputs": [
    {
     "name": "stdout",
     "output_type": "stream",
     "text": [
      "Argument: Add a gallery section with relevant images\n"
     ]
    }
   ],
   "source": [
    "if response.choices[0].finish_reason == 'tool_calls':\n",
    "    website_chat_messages.append(response.choices[0].message)\n",
    "    tool_call = response.choices[0].message.tool_calls[0]\n",
    "    argument = json.loads(response.choices[0].message.tool_calls[0].function.arguments)['changes_to_made']\n",
    "    print(f'Argument: {argument}')\n",
    "    modify_conversation_agent = [\n",
    "        {\n",
    "            \"role\": \"system\",\n",
    "            \"content\": f\"You are a helpful assistant which is being used in a site builder app, you help user in building a beautiful and informational site for their business, \\\n",
    "            give them suggestions to improve it and then call appropriate functions to make changes to the website. Based on this json format: {website_json_frame} , \\\n",
    "            this is the current website: {new_website_json}, user can ask you to remove certain sections, add certain sections or modify certains sections, and you perform \\\n",
    "            those action in accordance with original json fomrat given.\"\n",
    "        },\n",
    "        {\n",
    "            \"role\": \"user\",\n",
    "            \"content\": f\"{argument}. Output the modified website json\"\n",
    "        }\n",
    "    ]\n",
    "    modified_website_response = call_openai(conversation_history=modify_conversation_agent, output_json=True)\n",
    "    old_website_json = new_website_json\n",
    "    new_website_json = json.loads(modified_website_response.choices[0].message.content)\n",
    "    website_chat_messages.append(\n",
    "        {\n",
    "            \"tool_call_id\": tool_call.id,\n",
    "            \"role\": \"tool\",\n",
    "            \"name\": tool_call.function.name,\n",
    "            \"content\": f\"The website has been modified to {new_website_json}\"\n",
    "        }\n",
    "    )\n",
    "    response = call_openai(conversation_history=website_chat_messages, functions=functions)\n",
    "    website_chat_messages.append(\n",
    "        {\n",
    "            \"role\": \"assistant\",\n",
    "            \"content\": response.choices[0].message.content\n",
    "        }\n",
    "    )\n",
    "else:\n",
    "    website_chat_messages.append({\n",
    "        \"role\": \"assistant\",\n",
    "        \"content\": response.choices[0].message.content\n",
    "    })"
   ]
  },
  {
   "cell_type": "code",
   "execution_count": 377,
   "metadata": {},
   "outputs": [
    {
     "data": {
      "text/plain": [
       "[{'role': 'system',\n",
       "  'content': \"You are a helpful assistant which is being used in a site builder app, you help user in building a beautiful and informational site for their business, give them suggestions to improve certain section's content if asked(one section at a time). Based on this json format: {'header': {'title': 'This should be title of the web site. Kind of logo. Should be short', 'image_search_prompt': 'short two word description of brand logo'}, 'intro': {'heading': 'this should be heading for page', 'description': 'this should be 2-3 line description about the business', 'button_label': 'Label text of button'}, 'custom_links': {'links': [{'button_label': 'Label for the button', 'button_icon': 'One of the 12 icons: (need to type all icons here)'}]}, 'services_section': {'heading': '', 'button_label': 'Each service will have a button on ui and this label will be used for all services, For ex: Book this Service/Book', 'currency': 'currency unit to use one of USD, EUR, GBP', 'services': [{'name': 'name of the service', 'description': 'service desc', 'price': 'integer value of price in unit defined above', 'image_search_prompt': 'short two word description for above service'}]}, 'text': {'heading': '', 'description': '', 'button_label': ''}, 'gallery_section': {'heading': '', 'button_label': '', 'images': [{'image_description': '', 'image_search_prompt': 'short two word descrioption of above image'}]}, 'product_section': {'heading': '', 'main_button_label': 'Label for main button show to right of Heading, For example: Shope all', 'button_label': 'Each product will have a button on ui and this label will be used for all products, For ex: Buy/Buy Now', 'currency': 'currency unit to use one of USD, EUR, GBP', 'products': [{'name': '', 'price': 'integer value of price in unit defined above', 'image_search_prompt': 'short two word description for above product'}]}, 'testimonial_section': {'heading': 'Headin of the testimonial section', 'testimonials': [{'quote': 'Reviw given by user. Should be 3-5 lines.', 'written_by': 'name of a person', 'designation': '', 'gender': 'male or female'}]}, 'contact_form': {'heading': 'heading of the contact form'}, 'social_links': {'links': [{'type': 'facebook/linkedin/twitter/tiktok', 'link': ''}]}} , this is the current website: {'header': {'title': 'Code With Luv', 'image_search_prompt': 'coding education'}, 'intro': {'heading': 'Master Competitive Programming with Code With Luv!', 'description': 'Enhance your coding skills and excel in competitive programming with our expertly crafted courses.', 'button_label': 'Explore Courses'}, 'services_section': {'heading': 'Our Courses', 'button_label': 'Book this Course', 'currency': 'USD', 'services': [{'name': 'Basic Programming Fundamentals', 'description': 'Learn the basics of programming languages and problem-solving techniques.', 'price': 99, 'image_search_prompt': 'coding basics'}, {'name': 'Advanced Algorithm Design', 'description': 'Master advanced algorithms and data structures to excel in competitive programming.', 'price': 149, 'image_search_prompt': 'algorithm design'}]}, 'testimonial_section': {'heading': 'Student Reviews', 'testimonials': [{'quote': 'Code With Luv helped me improve my problem-solving skills significantly. Highly recommended!', 'written_by': 'John Doe', 'designation': 'Student', 'gender': 'male'}, {'quote': 'I was able to tackle complex coding challenges confidently after taking courses at Code With Luv.', 'written_by': 'Jane Smith', 'designation': 'Programming Enthusiast', 'gender': 'female'}]}, 'contact_form': {'heading': 'Get in Touch'}}, user can ask you to remove certain sections, add certain sections or modify certains sections in json. The changes you can make or only limited to what can be added/removed/modified in json, If user askes to add any new ui component or something like that, you should refuse to user in simple language and not mention things like json etc as real user is unaware of that. Your replies should be concise. You should also not call any function in such cases as well\"},\n",
       " {'role': 'user', 'content': 'Increase the testimonial count to 3'},\n",
       " ChatCompletionMessage(content=None, role='assistant', function_call=None, tool_calls=[ChatCompletionMessageToolCall(id='call_ZdKuOyFki7RvCm9ZIapHxmfL', function=Function(arguments='{\"changes_to_made\":\"Add one more testimonial to the testimonial section\"}', name='change_website'), type='function')]),\n",
       " {'tool_call_id': 'call_ZdKuOyFki7RvCm9ZIapHxmfL',\n",
       "  'role': 'tool',\n",
       "  'name': 'change_website',\n",
       "  'content': \"The website has been modified to {'header': {'title': 'Code With Luv', 'image_search_prompt': 'coding education'}, 'intro': {'heading': 'Master Competitive Programming with Code With Luv!', 'description': 'Enhance your coding skills and excel in competitive programming with our expertly crafted courses.', 'button_label': 'Explore Courses'}, 'services_section': {'heading': 'Our Courses', 'button_label': 'Book this Course', 'currency': 'USD', 'services': [{'name': 'Basic Programming Fundamentals', 'description': 'Learn the basics of programming languages and problem-solving techniques.', 'price': 99, 'image_search_prompt': 'coding basics'}, {'name': 'Advanced Algorithm Design', 'description': 'Master advanced algorithms and data structures to excel in competitive programming.', 'price': 149, 'image_search_prompt': 'algorithm design'}]}, 'testimonial_section': {'heading': 'Student Reviews', 'testimonials': [{'quote': 'Code With Luv helped me improve my problem-solving skills significantly. Highly recommended!', 'written_by': 'John Doe', 'designation': 'Student', 'gender': 'male'}, {'quote': 'I was able to tackle complex coding challenges confidently after taking courses at Code With Luv.', 'written_by': 'Jane Smith', 'designation': 'Programming Enthusiast', 'gender': 'female'}, {'quote': 'Learning with Code With Luv was a game-changer for me. I am now more confident in my coding abilities.', 'written_by': 'Sarah Johnson', 'designation': 'Software Engineer', 'gender': 'female'}]}, 'contact_form': {'heading': 'Get in Touch'}}\"},\n",
       " {'role': 'assistant',\n",
       "  'content': 'The testimonial count has been increased to 3 on the website.'},\n",
       " {'role': 'user',\n",
       "  'content': 'What more do you suggest me to change in website'},\n",
       " {'role': 'assistant',\n",
       "  'content': 'I would suggest adding a gallery section with images related to your courses or testimonials to make the website more visually engaging and compelling for visitors.'},\n",
       " {'role': 'user', 'content': 'Can you do it in that case'},\n",
       " ChatCompletionMessage(content=None, role='assistant', function_call=None, tool_calls=[ChatCompletionMessageToolCall(id='call_fSmfGMuon7hWT4nqF5jvbOjZ', function=Function(arguments='{\"changes_to_made\":\"Add a gallery section with relevant images\"}', name='change_website'), type='function')]),\n",
       " {'tool_call_id': 'call_fSmfGMuon7hWT4nqF5jvbOjZ',\n",
       "  'role': 'tool',\n",
       "  'name': 'change_website',\n",
       "  'content': \"The website has been modified to {'header': {'title': 'Code With Luv', 'image_search_prompt': 'coding education'}, 'intro': {'heading': 'Master Competitive Programming with Code With Luv!', 'description': 'Enhance your coding skills and excel in competitive programming with our expertly crafted courses.', 'button_label': 'Explore Courses'}, 'services_section': {'heading': 'Our Courses', 'button_label': 'Book this Course', 'currency': 'USD', 'services': [{'name': 'Basic Programming Fundamentals', 'description': 'Learn the basics of programming languages and problem-solving techniques.', 'price': 99, 'image_search_prompt': 'coding basics'}, {'name': 'Advanced Algorithm Design', 'description': 'Master advanced algorithms and data structures to excel in competitive programming.', 'price': 149, 'image_search_prompt': 'algorithm design'}]}, 'testimonial_section': {'heading': 'Student Reviews', 'testimonials': [{'quote': 'Code With Luv helped me improve my problem-solving skills significantly. Highly recommended!', 'written_by': 'John Doe', 'designation': 'Student', 'gender': 'male'}, {'quote': 'I was able to tackle complex coding challenges confidently after taking courses at Code With Luv.', 'written_by': 'Jane Smith', 'designation': 'Programming Enthusiast', 'gender': 'female'}, {'quote': 'Learning with Code With Luv was a game-changer for me. I am now more confident in my coding abilities.', 'written_by': 'Sarah Johnson', 'designation': 'Software Engineer', 'gender': 'female'}]}, 'contact_form': {'heading': 'Get in Touch'}, 'gallery_section': {'heading': 'Gallery', 'button_label': 'View Gallery', 'images': [{'image_description': '', 'image_search_prompt': 'relevant images'}]}}\"},\n",
       " {'role': 'assistant',\n",
       "  'content': 'The gallery section with relevant images has been added to the website for a visually engaging experience.'}]"
      ]
     },
     "execution_count": 377,
     "metadata": {},
     "output_type": "execute_result"
    }
   ],
   "source": [
    "website_chat_messages"
   ]
  },
  {
   "cell_type": "code",
   "execution_count": 378,
   "metadata": {},
   "outputs": [
    {
     "data": {
      "text/plain": [
       "{'header': {'title': 'Code With Luv',\n",
       "  'image_search_prompt': 'coding education'},\n",
       " 'intro': {'heading': 'Master Competitive Programming with Code With Luv!',\n",
       "  'description': 'Enhance your coding skills and excel in competitive programming with our expertly crafted courses.',\n",
       "  'button_label': 'Explore Courses'},\n",
       " 'services_section': {'heading': 'Our Courses',\n",
       "  'button_label': 'Book this Course',\n",
       "  'currency': 'USD',\n",
       "  'services': [{'name': 'Basic Programming Fundamentals',\n",
       "    'description': 'Learn the basics of programming languages and problem-solving techniques.',\n",
       "    'price': 99,\n",
       "    'image_search_prompt': 'coding basics'},\n",
       "   {'name': 'Advanced Algorithm Design',\n",
       "    'description': 'Master advanced algorithms and data structures to excel in competitive programming.',\n",
       "    'price': 149,\n",
       "    'image_search_prompt': 'algorithm design'}]},\n",
       " 'testimonial_section': {'heading': 'Student Reviews',\n",
       "  'testimonials': [{'quote': 'Code With Luv helped me improve my problem-solving skills significantly. Highly recommended!',\n",
       "    'written_by': 'John Doe',\n",
       "    'designation': 'Student',\n",
       "    'gender': 'male'},\n",
       "   {'quote': 'I was able to tackle complex coding challenges confidently after taking courses at Code With Luv.',\n",
       "    'written_by': 'Jane Smith',\n",
       "    'designation': 'Programming Enthusiast',\n",
       "    'gender': 'female'},\n",
       "   {'quote': 'Learning with Code With Luv was a game-changer for me. I am now more confident in my coding abilities.',\n",
       "    'written_by': 'Sarah Johnson',\n",
       "    'designation': 'Software Engineer',\n",
       "    'gender': 'female'}]},\n",
       " 'contact_form': {'heading': 'Get in Touch'},\n",
       " 'gallery_section': {'heading': 'Gallery',\n",
       "  'button_label': 'View Gallery',\n",
       "  'images': [{'image_description': '',\n",
       "    'image_search_prompt': 'relevant images'}]}}"
      ]
     },
     "execution_count": 378,
     "metadata": {},
     "output_type": "execute_result"
    }
   ],
   "source": [
    "new_website_json"
   ]
  },
  {
   "cell_type": "code",
   "execution_count": 379,
   "metadata": {},
   "outputs": [
    {
     "data": {
      "text/plain": [
       "{'header': {'title': 'Code With Luv',\n",
       "  'image_search_prompt': 'coding education'},\n",
       " 'intro': {'heading': 'Master Competitive Programming with Code With Luv!',\n",
       "  'description': 'Enhance your coding skills and excel in competitive programming with our expertly crafted courses.',\n",
       "  'button_label': 'Explore Courses'},\n",
       " 'services_section': {'heading': 'Our Courses',\n",
       "  'button_label': 'Book this Course',\n",
       "  'currency': 'USD',\n",
       "  'services': [{'name': 'Basic Programming Fundamentals',\n",
       "    'description': 'Learn the basics of programming languages and problem-solving techniques.',\n",
       "    'price': 99,\n",
       "    'image_search_prompt': 'coding basics'},\n",
       "   {'name': 'Advanced Algorithm Design',\n",
       "    'description': 'Master advanced algorithms and data structures to excel in competitive programming.',\n",
       "    'price': 149,\n",
       "    'image_search_prompt': 'algorithm design'}]},\n",
       " 'testimonial_section': {'heading': 'Student Reviews',\n",
       "  'testimonials': [{'quote': 'Code With Luv helped me improve my problem-solving skills significantly. Highly recommended!',\n",
       "    'written_by': 'John Doe',\n",
       "    'designation': 'Student',\n",
       "    'gender': 'male'},\n",
       "   {'quote': 'I was able to tackle complex coding challenges confidently after taking courses at Code With Luv.',\n",
       "    'written_by': 'Jane Smith',\n",
       "    'designation': 'Programming Enthusiast',\n",
       "    'gender': 'female'},\n",
       "   {'quote': 'Learning with Code With Luv was a game-changer for me. I am now more confident in my coding abilities.',\n",
       "    'written_by': 'Sarah Johnson',\n",
       "    'designation': 'Software Engineer',\n",
       "    'gender': 'female'}]},\n",
       " 'contact_form': {'heading': 'Get in Touch'}}"
      ]
     },
     "execution_count": 379,
     "metadata": {},
     "output_type": "execute_result"
    }
   ],
   "source": [
    "old_website_json"
   ]
  }
 ],
 "metadata": {
  "kernelspec": {
   "display_name": "ai-playground",
   "language": "python",
   "name": "python3"
  },
  "language_info": {
   "codemirror_mode": {
    "name": "ipython",
    "version": 3
   },
   "file_extension": ".py",
   "mimetype": "text/x-python",
   "name": "python",
   "nbconvert_exporter": "python",
   "pygments_lexer": "ipython3",
   "version": "3.10.11"
  },
  "orig_nbformat": 4
 },
 "nbformat": 4,
 "nbformat_minor": 2
}
