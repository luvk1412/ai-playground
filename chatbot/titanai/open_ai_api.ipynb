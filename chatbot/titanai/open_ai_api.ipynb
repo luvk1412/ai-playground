{
 "cells": [
  {
   "cell_type": "code",
   "execution_count": 48,
   "metadata": {},
   "outputs": [],
   "source": [
    "from dotenv import load_dotenv\n",
    "import os\n",
    "import openai\n",
    "import json\n"
   ]
  },
  {
   "cell_type": "code",
   "execution_count": 19,
   "metadata": {},
   "outputs": [],
   "source": [
    "load_dotenv()\n",
    "key = os.getenv(\"OPENAI_API_KEY\")\n",
    "openai.api_key = key\n"
   ]
  },
  {
   "cell_type": "code",
   "execution_count": 11,
   "metadata": {},
   "outputs": [],
   "source": [
    "conversation_history = [ {\"role\": \"system\", \"content\": \"You are a helpful assistant which is being used in an email application, for example: gmail, your aim is to help user only with email related tasks and some natural comverstaion if he wants or execute functions based on user input\"}]"
   ]
  },
  {
   "cell_type": "code",
   "execution_count": 39,
   "metadata": {},
   "outputs": [],
   "source": [
    "functions = [\n",
    "    {\n",
    "        \"name\": \"send_mail\",\n",
    "        \"description\": \"send email to an email\",\n",
    "        \"parameters\": {\n",
    "            \"type\": \"object\",\n",
    "            \"properties\": {\n",
    "                \"to\": {\n",
    "                    \"type\": \"string\",\n",
    "                    \"description\": \"email address to which email needs to be sent\",\n",
    "                },\n",
    "                \"subject\": {\n",
    "                    \"type\": \"string\",\n",
    "                    \"description\": \"Subject of the email\",\n",
    "                },\n",
    "                \"body\": {\n",
    "                    \"type\": \"string\",\n",
    "                    \"description\": \"Body of the email\",\n",
    "                }\n",
    "            },\n",
    "            \"required\": [\"to\", \"subject\", \"body\"],\n",
    "        },\n",
    "    },\n",
    "    {\n",
    "        \"name\": \"search_email\",\n",
    "        \"description\": \"search all the emails of the user to find specific email that user wants\",\n",
    "         \"parameters\": {\n",
    "            \"type\": \"object\",\n",
    "            \"properties\": {\n",
    "                \"from_email\": {\n",
    "                    \"type\": \"string\",\n",
    "                    \"description\": \"from email address which can be userd to filter all emails sent by a certain email address\",\n",
    "                },\n",
    "                \"words\": {\n",
    "                    \"type\": \"string\",\n",
    "                    \"description\": \"text which should be there in email subject or body\",\n",
    "                }\n",
    "            },\n",
    "            \"required\": [\"from_email\", \"words\"],\n",
    "        },\n",
    "    },\n",
    "    {\n",
    "        \"name\": \"change_name\",\n",
    "        \"description\": \"Change the name of the user to new specified name\",\n",
    "        \"parameters\": {\n",
    "            \"type\": \"object\",\n",
    "            \"properties\": {\n",
    "                \"name\": {\n",
    "                    \"type\": \"string\",\n",
    "                    \"description\": \"new name of the user\",\n",
    "                },\n",
    "            },\n",
    "            \"required\": [\"name\"],\n",
    "        },\n",
    "    },\n",
    "    {\n",
    "        \"name\": \"create_folder\",\n",
    "        \"description\": \"create a new folder for the user\",\n",
    "        \"parameters\": {\n",
    "            \"type\": \"object\",\n",
    "            \"properties\": {\n",
    "                \"folder_name\": {\n",
    "                    \"type\": \"string\",\n",
    "                    \"description\": \"folder name which user wants to create\",\n",
    "                },\n",
    "            },\n",
    "            \"required\": [\"folder_name\"],\n",
    "        },\n",
    "    },\n",
    "    {\n",
    "        \"name\": \"add_rule_move_to_folder\",\n",
    "        \"description\": \"add a new filter or rule which helps user to to filter his incoming mails. For example move mails coming from certain email to some folder\",\n",
    "         \"parameters\": {\n",
    "            \"type\": \"object\",\n",
    "            \"properties\": {\n",
    "                \"rule_name\": {\n",
    "                    \"type\": \"string\",\n",
    "                    \"description\": \"name of the rule user wants to create\",\n",
    "                },\n",
    "                \"from_email\": {\n",
    "                    \"type\": \"string\",\n",
    "                    \"description\": \"a valid emaill address for the the filter being created. Filter will be applied on all the mail coming from this email\",\n",
    "                },\n",
    "                \"folder_name\": {\n",
    "                    \"type\": \"string\",\n",
    "                    \"description\": \"folder name to which mails need to be moved to based on the filter\",\n",
    "                }\n",
    "            },\n",
    "            \"required\": [\"rule_name\", \"from_email\", \"folder_name\"],\n",
    "         }\n",
    "    }\n",
    "]"
   ]
  },
  {
   "cell_type": "code",
   "execution_count": 13,
   "metadata": {},
   "outputs": [],
   "source": [
    "def talk_to_gpt3(prompt, conversation_history):\n",
    "    conversation_history.append({\"role\": \"user\", \"content\": prompt})\n",
    "    response = openai.ChatCompletion.create(\n",
    "        model=\"gpt-3.5-turbo\",\n",
    "        messages=conversation_history,\n",
    "        functions=functions,\n",
    "        function_call=\"auto\",\n",
    "    )\n",
    "    answer = response.choices[0].message['content']\n",
    "    conversation_history.append({\"role\": \"assistant\", \"content\": answer})\n",
    "    return answer"
   ]
  },
  {
   "cell_type": "code",
   "execution_count": 47,
   "metadata": {},
   "outputs": [],
   "source": [
    "conversation_history = [ {\"role\": \"system\", \"content\": \"You are a helpful assistant which is being used in an email application, for example: gmail, your aim is to help user only with email related tasks and some natural comverstaion if he wants\"}]\n",
    "\n",
    "prompt = \"Create a folder for me with name Important Emails\"\n",
    "\n",
    "conversation_history.append({\"role\": \"user\", \"content\": prompt})"
   ]
  },
  {
   "cell_type": "code",
   "execution_count": 43,
   "metadata": {},
   "outputs": [],
   "source": [
    "\n",
    "\n",
    "response = openai.ChatCompletion.create(\n",
    "    model=\"gpt-3.5-turbo\",\n",
    "    messages=conversation_history,\n",
    "    functions=functions,\n",
    "    function_call=\"auto\",\n",
    ")"
   ]
  },
  {
   "cell_type": "code",
   "execution_count": 44,
   "metadata": {},
   "outputs": [
    {
     "data": {
      "text/plain": [
       "<OpenAIObject chat.completion id=chatcmpl-7g8ymNDFUUGMk7FMwhn6wGF8vNWec at 0x1069e75b0> JSON: {\n",
       "  \"id\": \"chatcmpl-7g8ymNDFUUGMk7FMwhn6wGF8vNWec\",\n",
       "  \"object\": \"chat.completion\",\n",
       "  \"created\": 1690278648,\n",
       "  \"model\": \"gpt-3.5-turbo-0613\",\n",
       "  \"choices\": [\n",
       "    {\n",
       "      \"index\": 0,\n",
       "      \"message\": {\n",
       "        \"role\": \"assistant\",\n",
       "        \"content\": null,\n",
       "        \"function_call\": {\n",
       "          \"name\": \"create_folder\",\n",
       "          \"arguments\": \"{\\n\\\"folder_name\\\": \\\"Important Emails\\\"\\n}\"\n",
       "        }\n",
       "      },\n",
       "      \"finish_reason\": \"function_call\"\n",
       "    }\n",
       "  ],\n",
       "  \"usage\": {\n",
       "    \"prompt_tokens\": 380,\n",
       "    \"completion_tokens\": 16,\n",
       "    \"total_tokens\": 396\n",
       "  }\n",
       "}"
      ]
     },
     "execution_count": 44,
     "metadata": {},
     "output_type": "execute_result"
    }
   ],
   "source": [
    "response"
   ]
  },
  {
   "cell_type": "code",
   "execution_count": 45,
   "metadata": {},
   "outputs": [],
   "source": [
    "message = response.choices[0].message"
   ]
  },
  {
   "cell_type": "code",
   "execution_count": null,
   "metadata": {},
   "outputs": [],
   "source": [
    "if message['content']:\n",
    "    answer = message['content']\n",
    "    conversation_history.append({\"role\": \"assistant\", \"content\": answer})\n",
    "elif message['function_call']:\n",
    "    function_name = message[\"function_call\"][\"name\"]\n",
    "    function_args = json.loads(message[\"function_call\"][\"arguments\"])\n",
    "    result = \"Task has been done\"\n",
    "    conversation_history.append({\"role\": \"function\", \"name\":function_name ,\"content\": result })"
   ]
  }
 ],
 "metadata": {
  "kernelspec": {
   "display_name": "ai-playground",
   "language": "python",
   "name": "python3"
  },
  "language_info": {
   "codemirror_mode": {
    "name": "ipython",
    "version": 3
   },
   "file_extension": ".py",
   "mimetype": "text/x-python",
   "name": "python",
   "nbconvert_exporter": "python",
   "pygments_lexer": "ipython3",
   "version": "3.10.11"
  },
  "orig_nbformat": 4
 },
 "nbformat": 4,
 "nbformat_minor": 2
}
