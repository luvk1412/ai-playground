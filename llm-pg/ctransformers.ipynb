{
 "cells": [
  {
   "cell_type": "code",
   "execution_count": 6,
   "metadata": {},
   "outputs": [],
   "source": [
    "from ctransformers import AutoModelForCausalLM"
   ]
  },
  {
   "cell_type": "code",
   "execution_count": 7,
   "metadata": {},
   "outputs": [],
   "source": [
    "llm = AutoModelForCausalLM.from_pretrained('models/TheBloke/open-llama-13b-open-instruct-GGML/open-llama-13b-open-instruct.ggmlv3.q2_K.bin', model_type='llama')"
   ]
  },
  {
   "cell_type": "code",
   "execution_count": 8,
   "metadata": {},
   "outputs": [
    {
     "data": {
      "text/plain": [
       "'Below is an instruction that describes a task. Write a response that appropriately completes the request.\\n\\n### Instruction:\\nWrite an email selling an Email Product called Titan to partner  hostinger. Titan is an email product which can be integrated on hostinger website easily and has lot of features like read receipt, Ai integreations, Mail templates and tell some other future on your own\\n\\n### Response:'"
      ]
     },
     "execution_count": 8,
     "metadata": {},
     "output_type": "execute_result"
    }
   ],
   "source": [
    "prompt_template = \"Below is an instruction that describes a task. Write a response that appropriately completes the request.\\n\\n### Instruction:\\n{instruction}\\n\\n### Response:\"\n",
    "\n",
    "\n",
    "prompt = 'Write an email selling an Email Product called Titan to partner  hostinger. Titan is an email product which can be integrated on hostinger website easily and has lot of features like read receipt, Ai integreations, Mail templates and tell some other future on your own'\n",
    "\n",
    "\n",
    "final_prompt = prompt_template.format(instruction=prompt)\n",
    "final_prompt"
   ]
  },
  {
   "cell_type": "code",
   "execution_count": 12,
   "metadata": {},
   "outputs": [
    {
     "data": {
      "text/plain": [
       "30.0"
      ]
     },
     "execution_count": 12,
     "metadata": {},
     "output_type": "execute_result"
    }
   ],
   "source": [
    "0.1578/0.526 * 100"
   ]
  },
  {
   "cell_type": "code",
   "execution_count": 5,
   "metadata": {},
   "outputs": [
    {
     "name": "stdout",
     "output_type": "stream",
     "text": [
      "Subject: Interested in Email Product Titan for Partner Hostinger\n",
      "\n",
      "Dear [Partner Name],\n",
      "\n",
      "I am writing to express my interest in email product Titan for integration on your website. I understand that you are looking for a reliable email service provider that offers a wide range of features and easy integrations.\n",
      "\n",
      "I would like to introduce our product Titan, which is designed to meet your needs. With its unique features such as read receipts, AI integrations, mail templates, and more, we are confident that Titan can help you provide an exceptional customer experience.\n",
      "\n",
      "Furthermore, our product has a very user-friendly drag-and-drop email builder, allowing for easy customization of email templates and seamless integration with your website. We would be happy to provide more details about the product and its features.\n",
      "\n",
      "If you are interested in learning more about Titan, please do not hesitate to contact me. I look forward to hearing from you soon.\n",
      "\n",
      "Best regards,\n",
      "[Your Name]\n"
     ]
    }
   ],
   "source": [
    "print(llm(final_prompt))"
   ]
  }
 ],
 "metadata": {
  "kernelspec": {
   "display_name": "ai-playground",
   "language": "python",
   "name": "python3"
  },
  "language_info": {
   "codemirror_mode": {
    "name": "ipython",
    "version": 3
   },
   "file_extension": ".py",
   "mimetype": "text/x-python",
   "name": "python",
   "nbconvert_exporter": "python",
   "pygments_lexer": "ipython3",
   "version": "3.10.11"
  },
  "orig_nbformat": 4,
  "vscode": {
   "interpreter": {
    "hash": "5e68e16c544464da3efb9ee186824b9a7e3b6ff86694a0965d38d4446ee649c3"
   }
  }
 },
 "nbformat": 4,
 "nbformat_minor": 2
}
