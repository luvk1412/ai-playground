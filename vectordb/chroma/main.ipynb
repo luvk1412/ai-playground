{
 "cells": [
  {
   "cell_type": "code",
   "execution_count": 2,
   "metadata": {},
   "outputs": [],
   "source": [
    "import chromadb\n",
    "import pickle\n",
    "from chromadb.config import Settings\n",
    "from sentence_transformers import SentenceTransformer"
   ]
  },
  {
   "cell_type": "code",
   "execution_count": 3,
   "metadata": {},
   "outputs": [],
   "source": [
    "client = chromadb.Client(Settings(chroma_db_impl=\"duckdb+parquet\", persist_directory=\"db_persist\"))\n",
    "model = SentenceTransformer('all-MiniLM-L6-v2')"
   ]
  },
  {
   "cell_type": "code",
   "execution_count": 45,
   "metadata": {},
   "outputs": [
    {
     "data": {
      "text/plain": [
       "True"
      ]
     },
     "execution_count": 45,
     "metadata": {},
     "output_type": "execute_result"
    }
   ],
   "source": [
    "client.reset()"
   ]
  },
  {
   "cell_type": "code",
   "execution_count": 4,
   "metadata": {},
   "outputs": [],
   "source": [
    "collection = client.create_collection(\"luv_emails\", get_or_create=True)"
   ]
  },
  {
   "cell_type": "code",
   "execution_count": 5,
   "metadata": {},
   "outputs": [],
   "source": [
    "with open('embeddingsv2_74025.pkl', 'rb') as f:\n",
    "        embeddings_dict = pickle.load(f)\n",
    "with open('email_dicts_74025.pkl', 'rb') as f:\n",
    "        email_dicts = pickle.load(f)"
   ]
  },
  {
   "cell_type": "code",
   "execution_count": 6,
   "metadata": {},
   "outputs": [],
   "source": [
    "if None in embeddings_dict:\n",
    "    del embeddings_dict[None]\n",
    "if None in email_dicts:\n",
    "    del email_dicts[None]"
   ]
  },
  {
   "cell_type": "code",
   "execution_count": 33,
   "metadata": {},
   "outputs": [],
   "source": []
  },
  {
   "cell_type": "code",
   "execution_count": null,
   "metadata": {},
   "outputs": [],
   "source": []
  },
  {
   "cell_type": "code",
   "execution_count": 55,
   "metadata": {},
   "outputs": [],
   "source": [
    "collection.add(\n",
    "    # documents=list(formated_emails.values()),\n",
    "    embeddings=list(embeddings_dict.values()),\n",
    "    ids=list(embeddings_dict.keys()),\n",
    ")"
   ]
  },
  {
   "cell_type": "code",
   "execution_count": 7,
   "metadata": {},
   "outputs": [],
   "source": [
    "query = \"Mails for pendo support queries\"\n",
    "query_embeddings = model.encode([query])\n",
    "result = collection.query(\n",
    "    query_embeddings=query_embeddings.tolist(),\n",
    "    n_results=10\n",
    ")\n",
    "\n",
    "for mids in result['ids']:\n",
    "    for mid in mids:\n",
    "        # commenting print for commiting to git.\n",
    "        # print(email_dicts[mid])\n",
    "        pass"
   ]
  },
  {
   "cell_type": "code",
   "execution_count": 8,
   "metadata": {},
   "outputs": [
    {
     "data": {
      "text/plain": [
       "12715"
      ]
     },
     "execution_count": 8,
     "metadata": {},
     "output_type": "execute_result"
    }
   ],
   "source": [
    "collection.count()"
   ]
  },
  {
   "cell_type": "code",
   "execution_count": 1,
   "metadata": {},
   "outputs": [
    {
     "ename": "NameError",
     "evalue": "name 'client' is not defined",
     "output_type": "error",
     "traceback": [
      "\u001b[0;31m---------------------------------------------------------------------------\u001b[0m",
      "\u001b[0;31mNameError\u001b[0m                                 Traceback (most recent call last)",
      "Cell \u001b[0;32mIn[1], line 1\u001b[0m\n\u001b[0;32m----> 1\u001b[0m client\u001b[39m.\u001b[39mpersist()\n",
      "\u001b[0;31mNameError\u001b[0m: name 'client' is not defined"
     ]
    }
   ],
   "source": [
    "client.persist()"
   ]
  },
  {
   "cell_type": "code",
   "execution_count": 7,
   "metadata": {},
   "outputs": [],
   "source": [
    "import requests\n",
    "\n",
    "def req(ip):\n",
    "    url = \"https://www.multirbl.net/cgi-bin/rbl_api.pl?rbltype=ipv4&rblid=58&checkip={}&_=1693000028305\"  # Replace with the URL you want to call\n",
    "\n",
    "    response = requests.get(url.format(ip))\n",
    "    # print(url.format(ip))\n",
    "\n",
    "    if response.status_code == 200:\n",
    "        try:\n",
    "            json_data = response.json()\n",
    "            if json_data.get('status') == 1:\n",
    "                return 1\n",
    "        except ValueError as e:\n",
    "            print(\"Error decoding JSON:\", e)\n",
    "    else:\n",
    "        print(f\"Request failed with status code: {response.status_code}\")\n",
    "    return 0\n",
    "\n",
    "ip_list = ['18.196.231.60', '18.198.158.5', '18.198.78.245', '18.204.122.208', '18.208.113.204', '18.213.226.178', '18.215.190.59', '209.209.25.108', '209.209.25.115', '209.209.25.125', '209.209.25.128', '209.209.25.13', '209.209.25.159', '209.209.25.162', '209.209.25.165', '209.209.25.178', '209.209.25.192', '209.209.25.23', '209.209.25.3', '209.209.25.33', '209.209.25.43', '23.23.7.130', '3.121.9.152', '3.212.108.224', '3.215.71.165', '3.216.154.55', '3.216.99.48', '3.216.99.49', '3.216.99.50', '3.216.99.51', '3.216.99.52', '3.216.99.53', '3.216.99.54', '3.216.99.55', '3.216.99.56', '3.216.99.57', '3.216.99.58', '3.220.132.193', '3.226.109.223', '3.226.153.83', '3.232.215.110', '3.232.242.252', '3.64.226.208', '3.64.226.209', '3.64.226.210', '3.64.226.211', '3.64.226.212', '3.64.226.213', '3.64.226.214', '3.64.226.215', '3.64.226.216', '3.64.226.217', '3.64.226.218', '3.64.226.219', '3.65.141.4', '3.65.7.70', '3.66.115.72', '3.66.49.190', '3.67.56.127', '3.69.218.78', '3.69.224.234', '3.93.85.209', '34.202.218.147', '34.203.82.151', '34.227.236.38', '34.235.186.108', '35.153.42.126', '35.157.51.134', '35.175.0.24', '44.195.191.162', '44.199.128.152', '44.205.83.93', '44.210.205.39', '52.206.209.181', '52.45.85.111', '52.7.194.170', '54.161.96.10', '54.208.48.90', '54.86.250.16']\n"
   ]
  },
  {
   "cell_type": "code",
   "execution_count": 8,
   "metadata": {},
   "outputs": [
    {
     "data": {
      "text/plain": [
       "79"
      ]
     },
     "execution_count": 8,
     "metadata": {},
     "output_type": "execute_result"
    }
   ],
   "source": [
    "len(ip_list)"
   ]
  },
  {
   "cell_type": "code",
   "execution_count": 27,
   "metadata": {},
   "outputs": [],
   "source": [
    "blocked_ips=[]\n",
    "\n",
    "for ip in ip_list:\n",
    "    if req(ip) == 1:\n",
    "        blocked_ips.append(ip)"
   ]
  },
  {
   "cell_type": "code",
   "execution_count": 28,
   "metadata": {},
   "outputs": [
    {
     "data": {
      "text/plain": [
       "(0, [])"
      ]
     },
     "execution_count": 28,
     "metadata": {},
     "output_type": "execute_result"
    }
   ],
   "source": [
    "len(blocked_ips), blocked_ips"
   ]
  },
  {
   "cell_type": "code",
   "execution_count": null,
   "metadata": {},
   "outputs": [],
   "source": []
  },
  {
   "cell_type": "code",
   "execution_count": null,
   "metadata": {},
   "outputs": [],
   "source": []
  }
 ],
 "metadata": {
  "kernelspec": {
   "display_name": "ai-playground",
   "language": "python",
   "name": "python3"
  },
  "language_info": {
   "codemirror_mode": {
    "name": "ipython",
    "version": 3
   },
   "file_extension": ".py",
   "mimetype": "text/x-python",
   "name": "python",
   "nbconvert_exporter": "python",
   "pygments_lexer": "ipython3",
   "version": "3.10.11"
  },
  "orig_nbformat": 4
 },
 "nbformat": 4,
 "nbformat_minor": 2
}
