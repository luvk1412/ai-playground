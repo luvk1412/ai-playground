{
 "cells": [
  {
   "cell_type": "code",
   "execution_count": 2,
   "id": "1e78104b",
   "metadata": {},
   "outputs": [],
   "source": [
    "import torch\n",
    "from torch.nn import functional as F\n",
    "from makemore_helper import *\n",
    "import matplotlib.pyplot as plt\n",
    "%matplotlib inline\n",
    "import random\n"
   ]
  },
  {
   "cell_type": "markdown",
   "id": "14b163d9",
   "metadata": {},
   "source": [
    "Paper : https://www.jmlr.org/papers/volume3/bengio03a/bengio03a.pdf"
   ]
  },
  {
   "cell_type": "code",
   "execution_count": 3,
   "id": "a40238d2",
   "metadata": {},
   "outputs": [],
   "source": [
    "words = get_names_list()\n",
    "random.seed(42)\n",
    "random.shuffle(words)"
   ]
  },
  {
   "cell_type": "code",
   "execution_count": 4,
   "id": "edb16731",
   "metadata": {},
   "outputs": [],
   "source": [
    "sorted_chars = sorted(list(set(''.join(words))))\n",
    "num_classes = len(sorted_chars) + 1 # one extra for '.'"
   ]
  },
  {
   "cell_type": "code",
   "execution_count": 5,
   "id": "31068bd3",
   "metadata": {},
   "outputs": [],
   "source": [
    "block_size=3\n",
    "xs, ys = get_ngram_dataset(words=words,block_size=block_size)"
   ]
  },
  {
   "cell_type": "code",
   "execution_count": 6,
   "id": "50dcb6ec",
   "metadata": {},
   "outputs": [
    {
     "data": {
      "text/plain": [
       "(torch.Size([228146, 3]), torch.Size([228146]))"
      ]
     },
     "execution_count": 6,
     "metadata": {},
     "output_type": "execute_result"
    }
   ],
   "source": [
    "xs.shape,ys.shape"
   ]
  },
  {
   "cell_type": "code",
   "execution_count": 7,
   "id": "51c213cc",
   "metadata": {},
   "outputs": [
    {
     "name": "stdout",
     "output_type": "stream",
     "text": [
      "... --- y\n",
      "..y --- u\n",
      ".yu --- h\n",
      "yuh --- e\n",
      "uhe --- n\n",
      "hen --- g\n",
      "eng --- .\n",
      "... --- d\n",
      "..d --- i\n",
      ".di --- o\n",
      "dio --- n\n",
      "ion --- d\n",
      "ond --- r\n",
      "ndr --- e\n",
      "dre --- .\n",
      "... --- x\n",
      "..x --- a\n",
      ".xa --- v\n",
      "xav --- i\n",
      "avi --- e\n",
      "vie --- n\n",
      "ien --- .\n",
      "... --- j\n",
      "..j --- o\n",
      ".jo --- r\n",
      "jor --- i\n",
      "ori --- .\n",
      "... --- j\n",
      "..j --- u\n",
      ".ju --- a\n",
      "jua --- n\n",
      "uan --- l\n"
     ]
    }
   ],
   "source": [
    "#visualising\n",
    "example_ct = 32\n",
    "for xi, yi in zip(xs[:example_ct], ys[:example_ct]):\n",
    "    chsi = ''.join([default_itos[ix.item()] for ix in xi])\n",
    "    chy = default_itos[yi.item()]\n",
    "    print(f'{chsi} --- {chy}')\n"
   ]
  },
  {
   "cell_type": "code",
   "execution_count": 8,
   "id": "95a9778f",
   "metadata": {},
   "outputs": [
    {
     "data": {
      "text/plain": [
       "(torch.Size([182516, 3]),\n",
       " torch.Size([182516]),\n",
       " torch.Size([22815, 3]),\n",
       " torch.Size([22815]),\n",
       " torch.Size([22815, 3]),\n",
       " torch.Size([22815]))"
      ]
     },
     "execution_count": 8,
     "metadata": {},
     "output_type": "execute_result"
    }
   ],
   "source": [
    "xs_train, ys_train, xs_val, ys_val, xs_test, ys_test = train_val_test_split(xs, ys, 80, 10)\n",
    "xs_train.shape, ys_train.shape, xs_val.shape, ys_val.shape, xs_test.shape, ys_test.shape"
   ]
  },
  {
   "cell_type": "code",
   "execution_count": 9,
   "id": "73443f7d",
   "metadata": {},
   "outputs": [],
   "source": [
    "embeding_size = 2"
   ]
  },
  {
   "cell_type": "code",
   "execution_count": 10,
   "id": "17560505",
   "metadata": {},
   "outputs": [],
   "source": [
    "C = torch.randn((num_classes, embeding_size))"
   ]
  },
  {
   "cell_type": "code",
   "execution_count": 11,
   "id": "9e5d7810",
   "metadata": {},
   "outputs": [
    {
     "data": {
      "text/plain": [
       "tensor([-0.5795, -0.5210])"
      ]
     },
     "execution_count": 11,
     "metadata": {},
     "output_type": "execute_result"
    }
   ],
   "source": [
    "C[5]"
   ]
  },
  {
   "cell_type": "code",
   "execution_count": 12,
   "id": "1fba6626",
   "metadata": {},
   "outputs": [
    {
     "data": {
      "text/plain": [
       "tensor([-0.5795, -0.5210])"
      ]
     },
     "execution_count": 12,
     "metadata": {},
     "output_type": "execute_result"
    }
   ],
   "source": [
    "F.one_hot(torch.tensor(5), num_classes=num_classes).float() @ C"
   ]
  },
  {
   "cell_type": "code",
   "execution_count": 13,
   "id": "29fee167",
   "metadata": {},
   "outputs": [
    {
     "data": {
      "text/plain": [
       "torch.Size([182516, 3, 2])"
      ]
     },
     "execution_count": 13,
     "metadata": {},
     "output_type": "execute_result"
    }
   ],
   "source": [
    "emb = C[xs_train]\n",
    "emb.shape"
   ]
  },
  {
   "cell_type": "code",
   "execution_count": 14,
   "id": "1c5ad481",
   "metadata": {},
   "outputs": [],
   "source": [
    "W1 = torch.randn((6, 100))\n",
    "b1 = torch.randn(100)"
   ]
  },
  {
   "cell_type": "code",
   "execution_count": 15,
   "id": "ab84cab4",
   "metadata": {},
   "outputs": [],
   "source": [
    "h = torch.tanh(emb.view(-1 , block_size *embeding_size) @ W1 + b1)"
   ]
  },
  {
   "cell_type": "code",
   "execution_count": 16,
   "id": "16cf303d",
   "metadata": {},
   "outputs": [
    {
     "data": {
      "text/plain": [
       "torch.Size([182516, 100])"
      ]
     },
     "execution_count": 16,
     "metadata": {},
     "output_type": "execute_result"
    }
   ],
   "source": [
    "h.shape"
   ]
  },
  {
   "cell_type": "code",
   "execution_count": 17,
   "id": "c1fe77d9",
   "metadata": {},
   "outputs": [],
   "source": [
    "W2 = torch.randn((100, 27))\n",
    "b2 = torch.randn(27)"
   ]
  },
  {
   "cell_type": "code",
   "execution_count": 18,
   "id": "28be04ac",
   "metadata": {},
   "outputs": [
    {
     "data": {
      "text/plain": [
       "tensor([[ -3.8904,  -2.5813,  -2.1204,  ...,   7.9275,  -3.3335,   4.7966],\n",
       "        [ -0.9810,   1.4103,   2.2497,  ...,   6.7632,  -3.7616,   8.9765],\n",
       "        [-18.2136,   6.4029, -11.3524,  ...,  12.4145,   1.3037,   1.8356],\n",
       "        ...,\n",
       "        [  2.5825,  -7.8676,   0.5554,  ...,  12.0313,   4.4196,   3.3984],\n",
       "        [ -3.8904,  -2.5813,  -2.1204,  ...,   7.9275,  -3.3335,   4.7966],\n",
       "        [ -7.7391,   2.7493,  -4.8977,  ...,   6.7410,  -1.0092,   4.9083]])"
      ]
     },
     "execution_count": 18,
     "metadata": {},
     "output_type": "execute_result"
    }
   ],
   "source": [
    "logits = h @ W2 + b2\n",
    "logits"
   ]
  },
  {
   "cell_type": "code",
   "execution_count": 19,
   "id": "b6047b30",
   "metadata": {},
   "outputs": [
    {
     "data": {
      "text/plain": [
       "tensor([[2.0436e-02, 7.5676e-02, 1.1999e-01,  ..., 2.7725e+03, 3.5666e-02,\n",
       "         1.2109e+02],\n",
       "        [3.7495e-01, 4.0971e+00, 9.4848e+00,  ..., 8.6543e+02, 2.3246e-02,\n",
       "         7.9149e+03],\n",
       "        [1.2300e-08, 6.0360e+02, 1.1741e-05,  ..., 2.4636e+05, 3.6830e+00,\n",
       "         6.2688e+00],\n",
       "        ...,\n",
       "        [1.3230e+01, 3.8295e-04, 1.7426e+00,  ..., 1.6794e+05, 8.3066e+01,\n",
       "         2.9916e+01],\n",
       "        [2.0436e-02, 7.5676e-02, 1.1999e-01,  ..., 2.7725e+03, 3.5666e-02,\n",
       "         1.2109e+02],\n",
       "        [4.3545e-04, 1.5631e+01, 7.4635e-03,  ..., 8.4640e+02, 3.6451e-01,\n",
       "         1.3540e+02]])"
      ]
     },
     "execution_count": 19,
     "metadata": {},
     "output_type": "execute_result"
    }
   ],
   "source": [
    "counts = logits.exp()\n",
    "prob = counts / counts.sum(1, keepdim=True)\n",
    "counts"
   ]
  },
  {
   "cell_type": "code",
   "execution_count": 20,
   "id": "cacfa08a",
   "metadata": {},
   "outputs": [
    {
     "data": {
      "text/plain": [
       "tensor([[1.4870e-07, 5.5066e-07, 8.7309e-07,  ..., 2.0174e-02, 2.5953e-07,\n",
       "         8.8115e-04],\n",
       "        [2.2488e-05, 2.4572e-04, 5.6885e-04,  ..., 5.1904e-02, 1.3942e-06,\n",
       "         4.7469e-01],\n",
       "        [3.2305e-14, 1.5853e-03, 3.0835e-11,  ..., 6.4701e-01, 9.6728e-06,\n",
       "         1.6464e-05],\n",
       "        ...,\n",
       "        [1.8024e-07, 5.2173e-12, 2.3741e-08,  ..., 2.2880e-03, 1.1317e-06,\n",
       "         4.0757e-07],\n",
       "        [1.4870e-07, 5.5066e-07, 8.7309e-07,  ..., 2.0174e-02, 2.5953e-07,\n",
       "         8.8115e-04],\n",
       "        [3.3086e-09, 1.1877e-04, 5.6709e-08,  ..., 6.4311e-03, 2.7696e-06,\n",
       "         1.0288e-03]])"
      ]
     },
     "execution_count": 20,
     "metadata": {},
     "output_type": "execute_result"
    }
   ],
   "source": [
    "prob"
   ]
  },
  {
   "cell_type": "code",
   "execution_count": 21,
   "id": "67ccd853",
   "metadata": {},
   "outputs": [
    {
     "data": {
      "text/plain": [
       "tensor([2.5953e-07, 1.3233e-01, 9.0349e-10,  ..., 1.8024e-07, 6.8617e-03,\n",
       "        3.0115e-05])"
      ]
     },
     "execution_count": 21,
     "metadata": {},
     "output_type": "execute_result"
    }
   ],
   "source": [
    "ypred = prob[torch.arange(prob.shape[0]), ys_train]\n",
    "ypred"
   ]
  },
  {
   "cell_type": "code",
   "execution_count": 22,
   "id": "c96f2781",
   "metadata": {},
   "outputs": [
    {
     "data": {
      "text/plain": [
       "tensor(14.4943)"
      ]
     },
     "execution_count": 22,
     "metadata": {},
     "output_type": "execute_result"
    }
   ],
   "source": [
    "loss = -ypred.log().mean()\n",
    "loss"
   ]
  },
  {
   "cell_type": "code",
   "execution_count": 33,
   "id": "ad1b8764",
   "metadata": {},
   "outputs": [],
   "source": [
    "# Everything above combined\n",
    "g = torch.Generator().manual_seed(2147483647)\n",
    "\n",
    "h_n_ct = 300 # hidden layer neuron count\n",
    "embeding_size = 10\n",
    "\n",
    "C = torch.randn((num_classes, embeding_size), generator=g)\n",
    "W1 = torch.randn((block_size*embeding_size, h_n_ct), generator=g)\n",
    "b1 = torch.randn(h_n_ct, generator=g)\n",
    "W2 = torch.randn((h_n_ct, num_classes), generator=g)\n",
    "b2 = torch.randn(num_classes, generator=g)\n",
    "parameters = [C, W1, b1, W2, b2]"
   ]
  },
  {
   "cell_type": "code",
   "execution_count": 34,
   "id": "bf390a50",
   "metadata": {},
   "outputs": [
    {
     "data": {
      "text/plain": [
       "17697"
      ]
     },
     "execution_count": 34,
     "metadata": {},
     "output_type": "execute_result"
    }
   ],
   "source": [
    "sum(p.nelement() for p in parameters) # total parameteres"
   ]
  },
  {
   "cell_type": "code",
   "execution_count": 35,
   "id": "df82e290",
   "metadata": {},
   "outputs": [],
   "source": [
    "for p in parameters:\n",
    "    p.requires_grad = True"
   ]
  },
  {
   "cell_type": "code",
   "execution_count": 36,
   "id": "fa93a456",
   "metadata": {},
   "outputs": [],
   "source": [
    "batch_size = 32\n",
    "stepi = []\n",
    "lossi = []\n",
    "steps = 0"
   ]
  },
  {
   "cell_type": "code",
   "execution_count": 37,
   "id": "c21fdf78",
   "metadata": {},
   "outputs": [
    {
     "name": "stdout",
     "output_type": "stream",
     "text": [
      "i=0, loss.item()=33.344478607177734\n",
      "i=10000, loss.item()=2.765263795852661\n",
      "i=20000, loss.item()=2.4637904167175293\n",
      "i=30000, loss.item()=2.4422948360443115\n",
      "i=40000, loss.item()=2.7572455406188965\n",
      "i=50000, loss.item()=3.0338521003723145\n",
      "i=60000, loss.item()=2.217768907546997\n",
      "i=70000, loss.item()=2.549940586090088\n",
      "i=80000, loss.item()=2.3652284145355225\n",
      "i=90000, loss.item()=3.3063836097717285\n",
      "i=100000, loss.item()=1.9008978605270386\n",
      "i=110000, loss.item()=2.0022284984588623\n",
      "i=120000, loss.item()=1.7640299797058105\n",
      "i=130000, loss.item()=2.5620243549346924\n",
      "i=140000, loss.item()=2.573866844177246\n",
      "i=150000, loss.item()=1.8427720069885254\n",
      "i=160000, loss.item()=2.580303907394409\n",
      "i=170000, loss.item()=2.442990303039551\n",
      "i=180000, loss.item()=1.7931668758392334\n",
      "i=190000, loss.item()=2.0091090202331543\n"
     ]
    },
    {
     "data": {
      "text/plain": [
       "2.293257713317871"
      ]
     },
     "execution_count": 37,
     "metadata": {},
     "output_type": "execute_result"
    }
   ],
   "source": [
    "for i in range(200000):\n",
    "    #mini batch\n",
    "    ix = torch.randint(0, xs_train.shape[0], (batch_size,))\n",
    "    \n",
    "    # forward pass\n",
    "    emb = C[xs_train[ix]]\n",
    "    h = torch.tanh(emb.view(-1 , block_size*embeding_size) @ W1 + b1)\n",
    "    logits = h @ W2 + b2\n",
    "    # logits = logits - logits.max()\n",
    "    # counts = logits.exp() \n",
    "    # prob = counts / counts.sum(1, keepdim=True)\n",
    "    # ypred = prob[torch.arange(prob.shape[0]), ys_train]\n",
    "    # loss = ypred.log().mean()\n",
    "    loss = F.cross_entropy(logits, ys_train[ix])\n",
    "    stepi.append(steps)\n",
    "    lossi.append(loss.item())\n",
    "    steps += 1\n",
    "    if i % 10000 == 0:\n",
    "        print(f'{i=}, {loss.item()=}')\n",
    "    # backward_pass\n",
    "    for p in parameters:\n",
    "        p.grad = None\n",
    "    loss.backward()\n",
    "    lr = 0.1 if i < 100000 else 0.01\n",
    "    for p in parameters:\n",
    "        p.data += -lr * p.grad\n",
    "loss.item()"
   ]
  },
  {
   "cell_type": "code",
   "execution_count": 38,
   "id": "d19fdd11",
   "metadata": {},
   "outputs": [
    {
     "data": {
      "text/plain": [
       "[<matplotlib.lines.Line2D at 0x157e9d1e0>]"
      ]
     },
     "execution_count": 38,
     "metadata": {},
     "output_type": "execute_result"
    },
    {
     "data": {
      "image/png": "[encoded data removed]",
      "text/plain": [
       "<Figure size 640x480 with 1 Axes>"
      ]
     },
     "metadata": {},
     "output_type": "display_data"
    }
   ],
   "source": [
    "plt.plot(stepi, lossi)"
   ]
  },
  {
   "cell_type": "code",
   "execution_count": 39,
   "id": "ea08603d",
   "metadata": {},
   "outputs": [
    {
     "data": {
      "text/plain": [
       "tensor(2.1825, grad_fn=<NllLossBackward0>)"
      ]
     },
     "execution_count": 39,
     "metadata": {},
     "output_type": "execute_result"
    }
   ],
   "source": [
    "emb = C[xs_val]\n",
    "h = torch.tanh(emb.view(-1 , block_size*embeding_size) @ W1 + b1)\n",
    "logits = h @ W2 + b2\n",
    "loss = F.cross_entropy(logits, ys_val)\n",
    "loss"
   ]
  },
  {
   "cell_type": "code",
   "execution_count": 30,
   "id": "65682e5d",
   "metadata": {},
   "outputs": [
    {
     "data": {
      "image/png": "[encoded data removed]",
      "text/plain": [
       "<Figure size 800x800 with 1 Axes>"
      ]
     },
     "metadata": {},
     "output_type": "display_data"
    }
   ],
   "source": [
    "# visualize dimensions 0 and 1 of the embedding matrix C for all characters\n",
    "plt.figure(figsize=(8,8))\n",
    "plt.scatter(C[:,0].data, C[:,1].data, s=200)\n",
    "for i in range(C.shape[0]):\n",
    "    plt.text(C[i,0].item(), C[i,1].item(), default_itos[i], ha=\"center\", va=\"center\", color='white')\n",
    "plt.grid('minor')"
   ]
  },
  {
   "cell_type": "code",
   "execution_count": 40,
   "id": "eb135df7",
   "metadata": {},
   "outputs": [
    {
     "data": {
      "text/plain": [
       "tensor(2.1789, grad_fn=<NllLossBackward0>)"
      ]
     },
     "execution_count": 40,
     "metadata": {},
     "output_type": "execute_result"
    }
   ],
   "source": [
    "# Test set\n",
    "emb = C[xs_test]\n",
    "h = torch.tanh(emb.view(-1 , block_size*embeding_size) @ W1 + b1)\n",
    "logits = h @ W2 + b2\n",
    "loss = F.cross_entropy(logits, ys_test)\n",
    "loss"
   ]
  },
  {
   "cell_type": "code",
   "execution_count": 56,
   "id": "9fc6c9cd",
   "metadata": {},
   "outputs": [
    {
     "name": "stdout",
     "output_type": "stream",
     "text": [
      "jamelanthor.\n",
      "imanderren.\n",
      "arley.\n",
      "cingsarde.\n",
      "dianiston.\n",
      "izabe.\n",
      "jose.\n",
      "dambryleieayi.\n",
      "hareklabrogsisbeyer.\n",
      "axua.\n",
      "praponni.\n",
      "jevanoan.\n",
      "julia.\n",
      "sashrosia.\n",
      "naiden.\n",
      "aibellandilkayanny.\n",
      "jon.\n",
      "emaedy.\n",
      "shohe.\n",
      "dria.\n"
     ]
    }
   ],
   "source": [
    "#predictions\n",
    "\n",
    "g = torch.Generator().manual_seed(2147483647+11)\n",
    "\n",
    "for _ in range(20):\n",
    "    out = []\n",
    "    context = [0] * block_size\n",
    "    while True:\n",
    "        emb = C[torch.tensor(context)]    \n",
    "        h = torch.tanh(emb.view(1, -1) @ W1 + b1)\n",
    "        logits = h @ W2 + b2\n",
    "        prob = F.softmax(logits, dim=1)\n",
    "#         prob = torch.randn(27).abs() // can uncoment this to show untrained output\n",
    "        ix = torch.multinomial(prob, num_samples=1, replacement=True, generator=g).item()\n",
    "        out.append(default_itos[ix])\n",
    "        context = context[1:] + [ix]\n",
    "        if ix == 0:\n",
    "            break\n",
    "    print(''.join(out))"
   ]
  }
 ],
 "metadata": {
  "kernelspec": {
   "display_name": "ai-playground",
   "language": "python",
   "name": "python3"
  },
  "language_info": {
   "codemirror_mode": {
    "name": "ipython",
    "version": 3
   },
   "file_extension": ".py",
   "mimetype": "text/x-python",
   "name": "python",
   "nbconvert_exporter": "python",
   "pygments_lexer": "ipython3",
   "version": "3.10.11"
  },
  "vscode": {
   "interpreter": {
    "hash": "5e68e16c544464da3efb9ee186824b9a7e3b6ff86694a0965d38d4446ee649c3"
   }
  }
 },
 "nbformat": 4,
 "nbformat_minor": 5
}
