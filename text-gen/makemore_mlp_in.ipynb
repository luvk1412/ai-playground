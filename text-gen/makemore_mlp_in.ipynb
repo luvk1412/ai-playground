{
 "cells": [
  {
   "cell_type": "code",
   "execution_count": 1,
   "id": "1e78104b",
   "metadata": {},
   "outputs": [],
   "source": [
    "import torch\n",
    "from torch.nn import functional as F\n",
    "from makemore_helper import *\n",
    "import matplotlib.pyplot as plt\n",
    "%matplotlib inline\n",
    "import random\n"
   ]
  },
  {
   "cell_type": "markdown",
   "id": "14b163d9",
   "metadata": {},
   "source": [
    "Paper : https://www.jmlr.org/papers/volume3/bengio03a/bengio03a.pdf"
   ]
  },
  {
   "cell_type": "code",
   "execution_count": 23,
   "id": "a40238d2",
   "metadata": {},
   "outputs": [],
   "source": [
    "def get_names_list_v2():\n",
    "    with open(\"names_indian.txt\", 'r') as f:\n",
    "        return f.read().splitlines()\n",
    "words = get_names_list_v2()\n",
    "random.seed(42)\n",
    "random.shuffle(words)"
   ]
  },
  {
   "cell_type": "code",
   "execution_count": 24,
   "id": "b1090582",
   "metadata": {},
   "outputs": [
    {
     "data": {
      "text/plain": [
       "{'a',\n",
       " 'b',\n",
       " 'c',\n",
       " 'd',\n",
       " 'e',\n",
       " 'f',\n",
       " 'g',\n",
       " 'h',\n",
       " 'i',\n",
       " 'j',\n",
       " 'k',\n",
       " 'l',\n",
       " 'm',\n",
       " 'n',\n",
       " 'o',\n",
       " 'p',\n",
       " 'q',\n",
       " 'r',\n",
       " 's',\n",
       " 't',\n",
       " 'u',\n",
       " 'v',\n",
       " 'w',\n",
       " 'x',\n",
       " 'y',\n",
       " 'z'}"
      ]
     },
     "execution_count": 24,
     "metadata": {},
     "output_type": "execute_result"
    }
   ],
   "source": [
    "set(''.join(words))"
   ]
  },
  {
   "cell_type": "code",
   "execution_count": 25,
   "id": "edb16731",
   "metadata": {},
   "outputs": [],
   "source": [
    "sorted_chars = sorted(list(set(''.join(words))))\n",
    "num_classes = len(sorted_chars) + 1 # one extra for '.'"
   ]
  },
  {
   "cell_type": "code",
   "execution_count": 26,
   "id": "31068bd3",
   "metadata": {},
   "outputs": [],
   "source": [
    "block_size=3\n",
    "xs, ys = get_ngram_dataset(words=words,block_size=block_size)"
   ]
  },
  {
   "cell_type": "code",
   "execution_count": 27,
   "id": "50dcb6ec",
   "metadata": {},
   "outputs": [
    {
     "data": {
      "text/plain": [
       "(torch.Size([47632, 3]), torch.Size([47632]))"
      ]
     },
     "execution_count": 27,
     "metadata": {},
     "output_type": "execute_result"
    }
   ],
   "source": [
    "xs.shape,ys.shape"
   ]
  },
  {
   "cell_type": "code",
   "execution_count": 28,
   "id": "51c213cc",
   "metadata": {},
   "outputs": [
    {
     "name": "stdout",
     "output_type": "stream",
     "text": [
      "... --- v\n",
      "..v --- i\n",
      ".vi --- k\n",
      "vik --- s\n",
      "iks --- h\n",
      "ksh --- i\n",
      "shi --- .\n",
      "... --- r\n",
      "..r --- a\n",
      ".ra --- j\n",
      "raj --- u\n",
      "aju --- d\n",
      "jud --- i\n",
      "udi --- .\n",
      "... --- b\n",
      "..b --- i\n",
      ".bi --- s\n",
      "bis --- h\n",
      "ish --- e\n",
      "she --- s\n",
      "hes --- h\n",
      "esh --- .\n",
      "... --- r\n",
      "..r --- a\n",
      ".ra --- h\n",
      "rah --- m\n",
      "ahm --- a\n",
      "hma --- t\n",
      "mat --- .\n",
      "... --- s\n",
      "..s --- u\n",
      ".su --- h\n"
     ]
    }
   ],
   "source": [
    "#visualising\n",
    "example_ct = 32\n",
    "for xi, yi in zip(xs[:example_ct], ys[:example_ct]):\n",
    "    chsi = ''.join([default_itos[ix.item()] for ix in xi])\n",
    "    chy = default_itos[yi.item()]\n",
    "    print(f'{chsi} --- {chy}')\n"
   ]
  },
  {
   "cell_type": "code",
   "execution_count": 29,
   "id": "95a9778f",
   "metadata": {},
   "outputs": [
    {
     "data": {
      "text/plain": [
       "(torch.Size([38105, 3]),\n",
       " torch.Size([38105]),\n",
       " torch.Size([4763, 3]),\n",
       " torch.Size([4763]),\n",
       " torch.Size([4764, 3]),\n",
       " torch.Size([4764]))"
      ]
     },
     "execution_count": 29,
     "metadata": {},
     "output_type": "execute_result"
    }
   ],
   "source": [
    "xs_train, ys_train, xs_val, ys_val, xs_test, ys_test = train_val_test_split(xs, ys, 80, 10)\n",
    "xs_train.shape, ys_train.shape, xs_val.shape, ys_val.shape, xs_test.shape, ys_test.shape"
   ]
  },
  {
   "cell_type": "code",
   "execution_count": 30,
   "id": "73443f7d",
   "metadata": {},
   "outputs": [],
   "source": [
    "embeding_size = 2"
   ]
  },
  {
   "cell_type": "code",
   "execution_count": 31,
   "id": "17560505",
   "metadata": {},
   "outputs": [],
   "source": [
    "C = torch.randn((num_classes, embeding_size))"
   ]
  },
  {
   "cell_type": "code",
   "execution_count": 32,
   "id": "9e5d7810",
   "metadata": {},
   "outputs": [
    {
     "data": {
      "text/plain": [
       "tensor([-1.3646, -0.0647])"
      ]
     },
     "execution_count": 32,
     "metadata": {},
     "output_type": "execute_result"
    }
   ],
   "source": [
    "C[5]"
   ]
  },
  {
   "cell_type": "code",
   "execution_count": 33,
   "id": "1fba6626",
   "metadata": {},
   "outputs": [
    {
     "data": {
      "text/plain": [
       "tensor([-1.3646, -0.0647])"
      ]
     },
     "execution_count": 33,
     "metadata": {},
     "output_type": "execute_result"
    }
   ],
   "source": [
    "F.one_hot(torch.tensor(5), num_classes=num_classes).float() @ C"
   ]
  },
  {
   "cell_type": "code",
   "execution_count": 34,
   "id": "29fee167",
   "metadata": {},
   "outputs": [
    {
     "data": {
      "text/plain": [
       "torch.Size([38105, 3, 2])"
      ]
     },
     "execution_count": 34,
     "metadata": {},
     "output_type": "execute_result"
    }
   ],
   "source": [
    "emb = C[xs_train]\n",
    "emb.shape"
   ]
  },
  {
   "cell_type": "code",
   "execution_count": 35,
   "id": "1c5ad481",
   "metadata": {},
   "outputs": [],
   "source": [
    "W1 = torch.randn((6, 100))\n",
    "b1 = torch.randn(100)"
   ]
  },
  {
   "cell_type": "code",
   "execution_count": 14,
   "id": "ab84cab4",
   "metadata": {},
   "outputs": [],
   "source": [
    "h = torch.tanh(emb.view(-1 , block_size *embeding_size) @ W1 + b1)"
   ]
  },
  {
   "cell_type": "code",
   "execution_count": 15,
   "id": "16cf303d",
   "metadata": {},
   "outputs": [
    {
     "data": {
      "text/plain": [
       "torch.Size([182516, 100])"
      ]
     },
     "execution_count": 15,
     "metadata": {},
     "output_type": "execute_result"
    }
   ],
   "source": [
    "h.shape"
   ]
  },
  {
   "cell_type": "code",
   "execution_count": 16,
   "id": "c1fe77d9",
   "metadata": {},
   "outputs": [],
   "source": [
    "W2 = torch.randn((100, 27))\n",
    "b2 = torch.randn(27)"
   ]
  },
  {
   "cell_type": "code",
   "execution_count": 17,
   "id": "28be04ac",
   "metadata": {},
   "outputs": [
    {
     "data": {
      "text/plain": [
       "tensor([[ 3.9897, -0.6666,  7.7388,  ...,  6.9503, 19.0372,  2.7772],\n",
       "        [ 6.1732, -1.0422,  6.4571,  ...,  7.6821, 16.4880,  3.1514],\n",
       "        [13.8122, -3.2323,  4.8819,  ..., -6.7591,  6.6428, -0.5188],\n",
       "        ...,\n",
       "        [14.4605,  3.0854, -5.8450,  ...,  1.3034, -0.7122, -0.3546],\n",
       "        [ 3.9897, -0.6666,  7.7388,  ...,  6.9503, 19.0372,  2.7772],\n",
       "        [17.7444, -4.8226, -2.5227,  ..., -3.1784,  3.8128,  7.3156]])"
      ]
     },
     "execution_count": 17,
     "metadata": {},
     "output_type": "execute_result"
    }
   ],
   "source": [
    "logits = h @ W2 + b2\n",
    "logits"
   ]
  },
  {
   "cell_type": "code",
   "execution_count": 18,
   "id": "b6047b30",
   "metadata": {},
   "outputs": [
    {
     "data": {
      "text/plain": [
       "tensor([[5.4041e+01, 5.1348e-01, 2.2958e+03,  ..., 1.0435e+03, 1.8525e+08,\n",
       "         1.6073e+01],\n",
       "        [4.7974e+02, 3.5267e-01, 6.3721e+02,  ..., 2.1693e+03, 1.4475e+07,\n",
       "         2.3368e+01],\n",
       "        [9.9666e+05, 3.9467e-02, 1.3188e+02,  ..., 1.1602e-03, 7.6723e+02,\n",
       "         5.9526e-01],\n",
       "        ...,\n",
       "        [1.9060e+06, 2.1877e+01, 2.8944e-03,  ..., 3.6819e+00, 4.9056e-01,\n",
       "         7.0147e-01],\n",
       "        [5.4041e+01, 5.1348e-01, 2.2958e+03,  ..., 1.0435e+03, 1.8525e+08,\n",
       "         1.6073e+01],\n",
       "        [5.0853e+07, 8.0460e-03, 8.0241e-02,  ..., 4.1653e-02, 4.5275e+01,\n",
       "         1.5035e+03]])"
      ]
     },
     "execution_count": 18,
     "metadata": {},
     "output_type": "execute_result"
    }
   ],
   "source": [
    "counts = logits.exp()\n",
    "prob = counts / counts.sum(1, keepdim=True)\n",
    "counts"
   ]
  },
  {
   "cell_type": "code",
   "execution_count": 19,
   "id": "cacfa08a",
   "metadata": {},
   "outputs": [
    {
     "data": {
      "text/plain": [
       "tensor([[2.9160e-07, 2.7707e-09, 1.2388e-05,  ..., 5.6307e-06, 9.9961e-01,\n",
       "         8.6730e-08],\n",
       "        [3.3000e-05, 2.4259e-08, 4.3833e-05,  ..., 1.4922e-04, 9.9574e-01,\n",
       "         1.6075e-06],\n",
       "        [9.5773e-01, 3.7926e-08, 1.2673e-04,  ..., 1.1149e-09, 7.3726e-04,\n",
       "         5.7201e-07],\n",
       "        ...,\n",
       "        [9.9942e-01, 1.1471e-05, 1.5177e-09,  ..., 1.9306e-06, 2.5723e-07,\n",
       "         3.6783e-07],\n",
       "        [2.9160e-07, 2.7707e-09, 1.2388e-05,  ..., 5.6307e-06, 9.9961e-01,\n",
       "         8.6730e-08],\n",
       "        [3.4406e-01, 5.4438e-11, 5.4290e-10,  ..., 2.8182e-10, 3.0632e-07,\n",
       "         1.0173e-05]])"
      ]
     },
     "execution_count": 19,
     "metadata": {},
     "output_type": "execute_result"
    }
   ],
   "source": [
    "prob"
   ]
  },
  {
   "cell_type": "code",
   "execution_count": 20,
   "id": "67ccd853",
   "metadata": {},
   "outputs": [
    {
     "data": {
      "text/plain": [
       "tensor([9.9961e-01, 1.1944e-10, 3.6731e-10,  ..., 9.9942e-01, 1.6435e-09,\n",
       "        9.0968e-08])"
      ]
     },
     "execution_count": 20,
     "metadata": {},
     "output_type": "execute_result"
    }
   ],
   "source": [
    "ypred = prob[torch.arange(prob.shape[0]), ys_train]\n",
    "ypred"
   ]
  },
  {
   "cell_type": "code",
   "execution_count": 21,
   "id": "c96f2781",
   "metadata": {},
   "outputs": [
    {
     "data": {
      "text/plain": [
       "tensor(17.4782)"
      ]
     },
     "execution_count": 21,
     "metadata": {},
     "output_type": "execute_result"
    }
   ],
   "source": [
    "loss = -ypred.log().mean()\n",
    "loss"
   ]
  },
  {
   "cell_type": "code",
   "execution_count": 36,
   "id": "ad1b8764",
   "metadata": {},
   "outputs": [],
   "source": [
    "# Everything above combined\n",
    "g = torch.Generator().manual_seed(2147483647)\n",
    "\n",
    "h_n_ct = 300 # hidden layer neuron count\n",
    "embeding_size = 10\n",
    "\n",
    "C = torch.randn((num_classes, embeding_size), generator=g)\n",
    "W1 = torch.randn((block_size*embeding_size, h_n_ct), generator=g)\n",
    "b1 = torch.randn(h_n_ct, generator=g)\n",
    "W2 = torch.randn((h_n_ct, num_classes), generator=g)\n",
    "b2 = torch.randn(num_classes, generator=g)\n",
    "parameters = [C, W1, b1, W2, b2]"
   ]
  },
  {
   "cell_type": "code",
   "execution_count": 37,
   "id": "bf390a50",
   "metadata": {},
   "outputs": [
    {
     "data": {
      "text/plain": [
       "17697"
      ]
     },
     "execution_count": 37,
     "metadata": {},
     "output_type": "execute_result"
    }
   ],
   "source": [
    "sum(p.nelement() for p in parameters) # total parameteres"
   ]
  },
  {
   "cell_type": "code",
   "execution_count": 38,
   "id": "df82e290",
   "metadata": {},
   "outputs": [],
   "source": [
    "for p in parameters:\n",
    "    p.requires_grad = True"
   ]
  },
  {
   "cell_type": "code",
   "execution_count": 39,
   "id": "fa93a456",
   "metadata": {},
   "outputs": [],
   "source": [
    "batch_size = 32\n",
    "stepi = []\n",
    "lossi = []\n",
    "steps = 0"
   ]
  },
  {
   "cell_type": "code",
   "execution_count": 40,
   "id": "c21fdf78",
   "metadata": {},
   "outputs": [
    {
     "name": "stdout",
     "output_type": "stream",
     "text": [
      "i=0, loss.item()=36.123085021972656\n",
      "i=10000, loss.item()=2.510451078414917\n",
      "i=20000, loss.item()=2.2418603897094727\n",
      "i=30000, loss.item()=2.500767469406128\n",
      "i=40000, loss.item()=1.9915679693222046\n",
      "i=50000, loss.item()=2.0505335330963135\n",
      "i=60000, loss.item()=2.231555700302124\n",
      "i=70000, loss.item()=1.7683172225952148\n",
      "i=80000, loss.item()=2.068373680114746\n",
      "i=90000, loss.item()=2.1536903381347656\n",
      "i=100000, loss.item()=2.1851141452789307\n",
      "i=110000, loss.item()=1.6675817966461182\n",
      "i=120000, loss.item()=1.8439147472381592\n",
      "i=130000, loss.item()=1.8601396083831787\n",
      "i=140000, loss.item()=2.049135684967041\n",
      "i=150000, loss.item()=1.8049770593643188\n",
      "i=160000, loss.item()=1.699116587638855\n",
      "i=170000, loss.item()=1.7188748121261597\n",
      "i=180000, loss.item()=1.675049066543579\n",
      "i=190000, loss.item()=1.9849166870117188\n"
     ]
    },
    {
     "data": {
      "text/plain": [
       "1.6102068424224854"
      ]
     },
     "execution_count": 40,
     "metadata": {},
     "output_type": "execute_result"
    }
   ],
   "source": [
    "for i in range(200000):\n",
    "    #mini batch\n",
    "    ix = torch.randint(0, xs_train.shape[0], (batch_size,))\n",
    "    \n",
    "    # forward pass\n",
    "    emb = C[xs_train[ix]]\n",
    "    h = torch.tanh(emb.view(-1 , block_size*embeding_size) @ W1 + b1)\n",
    "    logits = h @ W2 + b2\n",
    "    # logits = logits - logits.max()\n",
    "    # counts = logits.exp() \n",
    "    # prob = counts / counts.sum(1, keepdim=True)\n",
    "    # ypred = prob[torch.arange(prob.shape[0]), ys_train]\n",
    "    # loss = ypred.log().mean()\n",
    "    loss = F.cross_entropy(logits, ys_train[ix])\n",
    "    stepi.append(steps)\n",
    "    lossi.append(loss.item())\n",
    "    steps += 1\n",
    "    if i % 10000 == 0:\n",
    "        print(f'{i=}, {loss.item()=}')\n",
    "    # backward_pass\n",
    "    for p in parameters:\n",
    "        p.grad = None\n",
    "    loss.backward()\n",
    "    lr = 0.1 if i < 100000 else 0.01\n",
    "    for p in parameters:\n",
    "        p.data += -lr * p.grad\n",
    "loss.item()"
   ]
  },
  {
   "cell_type": "code",
   "execution_count": 41,
   "id": "d19fdd11",
   "metadata": {},
   "outputs": [
    {
     "data": {
      "text/plain": [
       "[<matplotlib.lines.Line2D at 0x137b2e530>]"
      ]
     },
     "execution_count": 41,
     "metadata": {},
     "output_type": "execute_result"
    },
    {
     "data": {
      "image/png": "[encoded data removed]",
      "text/plain": [
       "<Figure size 640x480 with 1 Axes>"
      ]
     },
     "metadata": {},
     "output_type": "display_data"
    }
   ],
   "source": [
    "plt.plot(stepi, lossi)"
   ]
  },
  {
   "cell_type": "code",
   "execution_count": 42,
   "id": "ea08603d",
   "metadata": {},
   "outputs": [
    {
     "data": {
      "text/plain": [
       "tensor(2.3336, grad_fn=<NllLossBackward0>)"
      ]
     },
     "execution_count": 42,
     "metadata": {},
     "output_type": "execute_result"
    }
   ],
   "source": [
    "emb = C[xs_val]\n",
    "h = torch.tanh(emb.view(-1 , block_size*embeding_size) @ W1 + b1)\n",
    "logits = h @ W2 + b2\n",
    "loss = F.cross_entropy(logits, ys_val)\n",
    "loss"
   ]
  },
  {
   "cell_type": "code",
   "execution_count": 242,
   "id": "65682e5d",
   "metadata": {},
   "outputs": [
    {
     "data": {
      "image/png": "[encoded data removed]",
      "text/plain": [
       "<Figure size 800x800 with 1 Axes>"
      ]
     },
     "metadata": {},
     "output_type": "display_data"
    }
   ],
   "source": [
    "# visualize dimensions 0 and 1 of the embedding matrix C for all characters\n",
    "plt.figure(figsize=(8,8))\n",
    "plt.scatter(C[:,0].data, C[:,1].data, s=200)\n",
    "for i in range(C.shape[0]):\n",
    "    plt.text(C[i,0].item(), C[i,1].item(), default_itos[i], ha=\"center\", va=\"center\", color='white')\n",
    "plt.grid('minor')"
   ]
  },
  {
   "cell_type": "code",
   "execution_count": 43,
   "id": "eb135df7",
   "metadata": {},
   "outputs": [
    {
     "data": {
      "text/plain": [
       "tensor(2.2411, grad_fn=<NllLossBackward0>)"
      ]
     },
     "execution_count": 43,
     "metadata": {},
     "output_type": "execute_result"
    }
   ],
   "source": [
    "# Test set\n",
    "emb = C[xs_test]\n",
    "h = torch.tanh(emb.view(-1 , block_size*embeding_size) @ W1 + b1)\n",
    "logits = h @ W2 + b2\n",
    "loss = F.cross_entropy(logits, ys_test)\n",
    "loss"
   ]
  },
  {
   "cell_type": "code",
   "execution_count": 54,
   "id": "9fc6c9cd",
   "metadata": {},
   "outputs": [
    {
     "name": "stdout",
     "output_type": "stream",
     "text": [
      "ramja.\n",
      "sha.\n",
      "shambhu.\n",
      "janen.\n",
      "anwar.\n",
      "istahurvesh.\n",
      "parantikaasurjeety.\n",
      "aagayal.\n",
      "nit.\n",
      "nikban.\n",
      "moti.\n",
      "shan.\n",
      "dilsin.\n",
      "gand.\n",
      "nin.\n",
      "faijaypand.\n",
      "raj.\n",
      "rak.\n",
      "udma.\n",
      "puneet.\n"
     ]
    }
   ],
   "source": [
    "#predictions\n",
    "\n",
    "g = torch.Generator().manual_seed(2147483647+10)\n",
    "\n",
    "for _ in range(20):\n",
    "    out = []\n",
    "    context = [0] * block_size\n",
    "    while True:\n",
    "        emb = C[torch.tensor(context)]    \n",
    "        h = torch.tanh(emb.view(1, -1) @ W1 + b1)\n",
    "        logits = h @ W2 + b2\n",
    "        prob = F.softmax(logits, dim=1)\n",
    "        #prob = torch.randn(27).abs() # can uncoment this to show untrained output\n",
    "        ix = torch.multinomial(prob, num_samples=1, replacement=True).item()\n",
    "        out.append(default_itos[ix])\n",
    "        context = context[1:] + [ix]\n",
    "        if ix == 0:\n",
    "            break\n",
    "    print(''.join(out))"
   ]
  }
 ],
 "metadata": {
  "kernelspec": {
   "display_name": "ai-playground",
   "language": "python",
   "name": "python3"
  },
  "language_info": {
   "codemirror_mode": {
    "name": "ipython",
    "version": 3
   },
   "file_extension": ".py",
   "mimetype": "text/x-python",
   "name": "python",
   "nbconvert_exporter": "python",
   "pygments_lexer": "ipython3",
   "version": "3.10.11"
  },
  "vscode": {
   "interpreter": {
    "hash": "5e68e16c544464da3efb9ee186824b9a7e3b6ff86694a0965d38d4446ee649c3"
   }
  }
 },
 "nbformat": 4,
 "nbformat_minor": 5
}
