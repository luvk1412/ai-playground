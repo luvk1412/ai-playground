{
 "cells": [
  {
   "cell_type": "code",
   "execution_count": 2,
   "metadata": {},
   "outputs": [],
   "source": [
    "sentence = \"My Name is Luv\"\n",
    "L = 4\n",
    "dim = 8"
   ]
  },
  {
   "cell_type": "code",
   "execution_count": 22,
   "metadata": {},
   "outputs": [
    {
     "data": {
      "text/plain": [
       "tensor([[ 0.7849, -0.8664, -0.5704, -0.4213,  0.1270, -2.2881, -0.7651,  0.2083],\n",
       "        [ 0.2349, -1.3822, -1.0465,  1.4141, -1.3525,  0.0387, -0.6949, -0.2850],\n",
       "        [-0.5416, -0.1017,  2.1061, -1.3323, -1.2048,  0.3653, -0.2022,  0.4389],\n",
       "        [-0.9081, -1.5706,  1.0735,  0.5775,  0.6379,  0.0062, -0.9665,  0.9437]])"
      ]
     },
     "execution_count": 22,
     "metadata": {},
     "output_type": "execute_result"
    }
   ],
   "source": [
    "import torch\n",
    "torch.set_printoptions(sci_mode=False)\n",
    "\n",
    "X = torch.randn(L * dim).view(L, -1)\n",
    "X"
   ]
  },
  {
   "cell_type": "code",
   "execution_count": 23,
   "metadata": {},
   "outputs": [
    {
     "data": {
      "text/plain": [
       "tensor([[ 7.7497,  1.5949, -1.7199,  0.7951],\n",
       "        [ 1.5949,  7.4556, -2.4157,  1.1909],\n",
       "        [-1.7199, -2.4157,  8.3329,  1.9864],\n",
       "        [ 0.7951,  1.1909,  1.9864,  7.0088]])"
      ]
     },
     "execution_count": 23,
     "metadata": {},
     "output_type": "execute_result"
    }
   ],
   "source": [
    "Y = X @ X.T\n",
    "Y"
   ]
  },
  {
   "cell_type": "code",
   "execution_count": 24,
   "metadata": {},
   "outputs": [
    {
     "data": {
      "text/plain": [
       "tensor([[    0.9969,     0.0028,     0.0000,     0.0020],\n",
       "        [    0.0021,     0.9952,     0.0000,     0.0029],\n",
       "        [    0.0001,     0.0001,     0.9982,     0.0065],\n",
       "        [    0.0010,     0.0019,     0.0017,     0.9886]])"
      ]
     },
     "execution_count": 24,
     "metadata": {},
     "output_type": "execute_result"
    }
   ],
   "source": [
    "from torch.nn import functional as F\n",
    "\n",
    "sft = F.softmax(Y, dim=0)\n",
    "\n",
    "sft"
   ]
  },
  {
   "cell_type": "code",
   "execution_count": null,
   "metadata": {},
   "outputs": [],
   "source": []
  }
 ],
 "metadata": {
  "kernelspec": {
   "display_name": "ai-playground",
   "language": "python",
   "name": "python3"
  },
  "language_info": {
   "codemirror_mode": {
    "name": "ipython",
    "version": 3
   },
   "file_extension": ".py",
   "mimetype": "text/x-python",
   "name": "python",
   "nbconvert_exporter": "python",
   "pygments_lexer": "ipython3",
   "version": "3.10.11"
  },
  "orig_nbformat": 4,
  "vscode": {
   "interpreter": {
    "hash": "5e68e16c544464da3efb9ee186824b9a7e3b6ff86694a0965d38d4446ee649c3"
   }
  }
 },
 "nbformat": 4,
 "nbformat_minor": 2
}
