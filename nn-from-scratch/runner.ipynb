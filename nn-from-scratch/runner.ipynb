{
 "cells": [
  {
   "cell_type": "code",
   "execution_count": 2,
   "id": "397e4018-c33c-4a5b-8f6d-ef482e232dba",
   "metadata": {},
   "outputs": [],
   "source": [
    "from draw import draw_dot\n",
    "from node import Node"
   ]
  },
  {
   "cell_type": "code",
   "execution_count": 9,
   "id": "5877a6ed",
   "metadata": {},
   "outputs": [],
   "source": [
    "n1 = Node(2)\n",
    "n2 = Node(4)\n",
    "n3 = n1 + n2\n",
    "n3.tanh()\n",
    "n3._backward()"
   ]
  },
  {
   "cell_type": "code",
   "execution_count": 11,
   "id": "fc5d6722",
   "metadata": {},
   "outputs": [],
   "source": [
    "draw_dot(n3)"
   ]
  }
 ],
 "metadata": {
  "kernelspec": {
   "display_name": "Python 3 (ipykernel)",
   "language": "python",
   "name": "python3"
  },
  "language_info": {
   "codemirror_mode": {
    "name": "ipython",
    "version": 3
   },
   "file_extension": ".py",
   "mimetype": "text/x-python",
   "name": "python",
   "nbconvert_exporter": "python",
   "pygments_lexer": "ipython3",
   "version": "3.10.11"
  }
 },
 "nbformat": 4,
 "nbformat_minor": 5
}
