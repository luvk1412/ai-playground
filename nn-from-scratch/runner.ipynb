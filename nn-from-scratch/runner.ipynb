{
 "cells": [
  {
   "cell_type": "code",
   "execution_count": 1,
   "id": "397e4018-c33c-4a5b-8f6d-ef482e232dba",
   "metadata": {},
   "outputs": [],
   "source": [
    "from draw import draw_dot\n",
    "from node import Node\n",
    "from nn import Layer, MLP"
   ]
  },
  {
   "cell_type": "code",
   "execution_count": 2,
   "id": "05ed51a5",
   "metadata": {},
   "outputs": [],
   "source": [
    "model = MLP(3, [4, 4, 1])"
   ]
  },
  {
   "cell_type": "code",
   "execution_count": 11,
   "id": "582ca6d9",
   "metadata": {},
   "outputs": [
    {
     "data": {
      "text/plain": [
       "Value(data=3.656205702134807, grad=0)"
      ]
     },
     "execution_count": 11,
     "metadata": {},
     "output_type": "execute_result"
    }
   ],
   "source": [
    "xs = [\n",
    "    [2.0,3.0,-1.0],\n",
    "    [3.0,-1.0,0.5],\n",
    "    [0.5,1.0,1.0],\n",
    "    [1.0,1.0,-1.0]\n",
    "]\n",
    "ys = [1.0, -1.0, -1.0, 1.0]\n",
    "\n",
    "ypred = [model(x) for x in xs]\n",
    "loss = sum((ypredi - ysi)**2 for ypredi, ysi in zip(ypred, ys))\n",
    "loss"
   ]
  },
  {
   "cell_type": "code",
   "execution_count": 4,
   "id": "d34744af",
   "metadata": {},
   "outputs": [],
   "source": [
    "loss.backward()"
   ]
  },
  {
   "cell_type": "code",
   "execution_count": 47,
   "id": "83361dfd",
   "metadata": {},
   "outputs": [],
   "source": [
    "# gradient descent\n",
    "for k in range(1000):\n",
    "    ypred = [model(x) for x in xs]\n",
    "    loss = sum((ypredi - ysi)**2 for ypredi, ysi in zip(ypred, ys))\n",
    "    \n",
    "    model.zero_grad()\n",
    "    loss.backward()\n",
    "    \n",
    "    for p in model.parameters():\n",
    "        p.data += -0.05 * p.grad\n",
    "#     print(k, loss.data)\n"
   ]
  },
  {
   "cell_type": "code",
   "execution_count": 48,
   "id": "03b67cfd",
   "metadata": {},
   "outputs": [
    {
     "data": {
      "text/plain": [
       "([Value(data=0.9878128357108129, grad=0),\n",
       "  Value(data=-0.9864263225345017, grad=0),\n",
       "  Value(data=-0.970046539424926, grad=0),\n",
       "  Value(data=0.982950302972605, grad=0)],\n",
       " Value(data=0.0015206736624974867, grad=0))"
      ]
     },
     "execution_count": 48,
     "metadata": {},
     "output_type": "execute_result"
    }
   ],
   "source": [
    "ypred = [model(x) for x in xs]\n",
    "loss = sum((ypredi - ysi)**2 for ypredi, ysi in zip(ypred, ys))\n",
    "ypred, loss"
   ]
  }
 ],
 "metadata": {
  "kernelspec": {
   "display_name": "Python 3 (ipykernel)",
   "language": "python",
   "name": "python3"
  },
  "language_info": {
   "codemirror_mode": {
    "name": "ipython",
    "version": 3
   },
   "file_extension": ".py",
   "mimetype": "text/x-python",
   "name": "python",
   "nbconvert_exporter": "python",
   "pygments_lexer": "ipython3",
   "version": "3.10.11"
  }
 },
 "nbformat": 4,
 "nbformat_minor": 5
}
